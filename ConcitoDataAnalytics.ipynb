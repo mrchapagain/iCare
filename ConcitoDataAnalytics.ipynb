{
  "nbformat": 4,
  "nbformat_minor": 0,
  "metadata": {
    "colab": {
      "name": "Copy of Concito",
      "provenance": [],
      "collapsed_sections": [],
      "include_colab_link": true
    },
    "kernelspec": {
      "name": "python3",
      "display_name": "Python 3"
    },
    "language_info": {
      "name": "python"
    }
  },
  "cells": [
    {
      "cell_type": "markdown",
      "metadata": {
        "id": "view-in-github",
        "colab_type": "text"
      },
      "source": [
        "<a href=\"https://colab.research.google.com/github/mrchapagain/iCare/blob/main/ConcitoDataAnalytics.ipynb\" target=\"_parent\"><img src=\"https://colab.research.google.com/assets/colab-badge.svg\" alt=\"Open In Colab\"/></a>"
      ]
    },
    {
      "cell_type": "markdown",
      "source": [
        "## Climate Data-Base from CONCITO"
      ],
      "metadata": {
        "id": "eXzwcEYh95vo"
      }
    },
    {
      "cell_type": "markdown",
      "source": [
        "**## Exploratery Analysis (EDA)**"
      ],
      "metadata": {
        "id": "6ArDDsjaOPww"
      }
    },
    {
      "cell_type": "code",
      "source": [
        "import pandas as pd\n",
        "# Import data\n",
        "data_link= \"/content/ClimateData.xlsx\""
      ],
      "metadata": {
        "id": "iYBYZtmN-GU9"
      },
      "execution_count": null,
      "outputs": []
    },
    {
      "cell_type": "code",
      "source": [
        "# Lets read the filke as it is\n",
        "col_names= [\"id\", \"Product_dk\", \"Category_dk\", \"Product_en\", \"Category_en\", \"Unit\", \"Agriculture\", \"iLUC\", \"Processing\", \"Packaging\", \"Transport\", \"Retail\", \"Total_CO2_eq/kg\", \"Energy_KJ\", \"Fat_g\", \"Carb_g\", \"Protein_g\", \"Data_Source\", \"Comments\", \"GPC_Level4_en\", \"ID_Food\", \"ID_Pack\", \"ID_Retail\", \"GPC_Category_en\", \"GPC_Category_dk\", \"GPC_Level4_dk\", \"product_type\", \"GPC_level1\", \"Food_group\", \"GPC_level2\", \"Un/Processed\", \"GPC_Level3\", \"Extra_category\"]\n",
        "\n",
        "data= pd.read_excel(data_link, sheet_name=1, index_col=False, header=None, skiprows=1, names= col_names).round(decimals = 2)\n",
        "data.head(3)"
      ],
      "metadata": {
        "colab": {
          "base_uri": "https://localhost:8080/",
          "height": 410
        },
        "id": "Wo0xp5DT-Fwg",
        "outputId": "4f887b99-4239-44e7-e5e4-1f02df8b0e69"
      },
      "execution_count": null,
      "outputs": [
        {
          "output_type": "stream",
          "name": "stderr",
          "text": [
            "/usr/local/lib/python3.7/dist-packages/pandas/io/excel/_base.py:1292: ParserWarning: Length of header or names does not match length of data. This leads to a loss of data with index_col=False.\n",
            "  **kwds,\n"
          ]
        },
        {
          "output_type": "execute_result",
          "data": {
            "text/plain": [
              "        id           Product_dk Category_dk  \\\n",
              "0  Ra00001  Peberfrugt, rød, rå  Grøntsager   \n",
              "1  Ra00002    Tomat, uspec., rå  Grøntsager   \n",
              "2  Ra00003           Squash, rå  Grøntsager   \n",
              "\n",
              "                          Product_en Category_en Unit  Agriculture  iLUC  \\\n",
              "0            Pepper, sweet, red, raw  Vegetables   kg         0.25  0.03   \n",
              "1  Tomato, ripe, raw, origin unknown  Vegetables   kg         0.07  0.01   \n",
              "2                        Squash, raw  Vegetables   kg         0.14  0.04   \n",
              "\n",
              "   Processing  Packaging  ...  GPC_Category_en  GPC_Category_dk  \\\n",
              "0         0.0       0.14  ...       Vegetables       Grøntsager   \n",
              "1         0.0       0.14  ...       Vegetables       Grøntsager   \n",
              "2         0.0       0.06  ...       Vegetables       Grøntsager   \n",
              "\n",
              "   GPC_Level4_dk                             product_type  GPC_level1  \\\n",
              "0       10006191  Square Tapering Sweet Peppers (Peg Top)  50000000.0   \n",
              "1       10006165                         Tomatoes – Round  50000000.0   \n",
              "2       10006355                        Squash (Calabaza)  50000000.0   \n",
              "\n",
              "              Food_group  GPC_level2  \\\n",
              "0  Food/Beverage/Tobacco  50260000.0   \n",
              "1  Food/Beverage/Tobacco  50260000.0   \n",
              "2  Food/Beverage/Tobacco  50260000.0   \n",
              "\n",
              "                                        Un/Processed  GPC_Level3  \\\n",
              "0  Vegetables (Non Leaf) – Unprepared/Unprocessed...  50260400.0   \n",
              "1  Vegetables (Non Leaf) – Unprepared/Unprocessed...  50260300.0   \n",
              "2  Vegetables (Non Leaf) – Unprepared/Unprocessed...  50260700.0   \n",
              "\n",
              "            Extra_category  \n",
              "0                  Peppers  \n",
              "1                 Tomatoes  \n",
              "2  Cucurbits – Edible Peel  \n",
              "\n",
              "[3 rows x 33 columns]"
            ],
            "text/html": [
              "\n",
              "  <div id=\"df-fd4ef3a1-8629-4d05-be81-3fa1430d0928\">\n",
              "    <div class=\"colab-df-container\">\n",
              "      <div>\n",
              "<style scoped>\n",
              "    .dataframe tbody tr th:only-of-type {\n",
              "        vertical-align: middle;\n",
              "    }\n",
              "\n",
              "    .dataframe tbody tr th {\n",
              "        vertical-align: top;\n",
              "    }\n",
              "\n",
              "    .dataframe thead th {\n",
              "        text-align: right;\n",
              "    }\n",
              "</style>\n",
              "<table border=\"1\" class=\"dataframe\">\n",
              "  <thead>\n",
              "    <tr style=\"text-align: right;\">\n",
              "      <th></th>\n",
              "      <th>id</th>\n",
              "      <th>Product_dk</th>\n",
              "      <th>Category_dk</th>\n",
              "      <th>Product_en</th>\n",
              "      <th>Category_en</th>\n",
              "      <th>Unit</th>\n",
              "      <th>Agriculture</th>\n",
              "      <th>iLUC</th>\n",
              "      <th>Processing</th>\n",
              "      <th>Packaging</th>\n",
              "      <th>...</th>\n",
              "      <th>GPC_Category_en</th>\n",
              "      <th>GPC_Category_dk</th>\n",
              "      <th>GPC_Level4_dk</th>\n",
              "      <th>product_type</th>\n",
              "      <th>GPC_level1</th>\n",
              "      <th>Food_group</th>\n",
              "      <th>GPC_level2</th>\n",
              "      <th>Un/Processed</th>\n",
              "      <th>GPC_Level3</th>\n",
              "      <th>Extra_category</th>\n",
              "    </tr>\n",
              "  </thead>\n",
              "  <tbody>\n",
              "    <tr>\n",
              "      <th>0</th>\n",
              "      <td>Ra00001</td>\n",
              "      <td>Peberfrugt, rød, rå</td>\n",
              "      <td>Grøntsager</td>\n",
              "      <td>Pepper, sweet, red, raw</td>\n",
              "      <td>Vegetables</td>\n",
              "      <td>kg</td>\n",
              "      <td>0.25</td>\n",
              "      <td>0.03</td>\n",
              "      <td>0.0</td>\n",
              "      <td>0.14</td>\n",
              "      <td>...</td>\n",
              "      <td>Vegetables</td>\n",
              "      <td>Grøntsager</td>\n",
              "      <td>10006191</td>\n",
              "      <td>Square Tapering Sweet Peppers (Peg Top)</td>\n",
              "      <td>50000000.0</td>\n",
              "      <td>Food/Beverage/Tobacco</td>\n",
              "      <td>50260000.0</td>\n",
              "      <td>Vegetables (Non Leaf) – Unprepared/Unprocessed...</td>\n",
              "      <td>50260400.0</td>\n",
              "      <td>Peppers</td>\n",
              "    </tr>\n",
              "    <tr>\n",
              "      <th>1</th>\n",
              "      <td>Ra00002</td>\n",
              "      <td>Tomat, uspec., rå</td>\n",
              "      <td>Grøntsager</td>\n",
              "      <td>Tomato, ripe, raw, origin unknown</td>\n",
              "      <td>Vegetables</td>\n",
              "      <td>kg</td>\n",
              "      <td>0.07</td>\n",
              "      <td>0.01</td>\n",
              "      <td>0.0</td>\n",
              "      <td>0.14</td>\n",
              "      <td>...</td>\n",
              "      <td>Vegetables</td>\n",
              "      <td>Grøntsager</td>\n",
              "      <td>10006165</td>\n",
              "      <td>Tomatoes – Round</td>\n",
              "      <td>50000000.0</td>\n",
              "      <td>Food/Beverage/Tobacco</td>\n",
              "      <td>50260000.0</td>\n",
              "      <td>Vegetables (Non Leaf) – Unprepared/Unprocessed...</td>\n",
              "      <td>50260300.0</td>\n",
              "      <td>Tomatoes</td>\n",
              "    </tr>\n",
              "    <tr>\n",
              "      <th>2</th>\n",
              "      <td>Ra00003</td>\n",
              "      <td>Squash, rå</td>\n",
              "      <td>Grøntsager</td>\n",
              "      <td>Squash, raw</td>\n",
              "      <td>Vegetables</td>\n",
              "      <td>kg</td>\n",
              "      <td>0.14</td>\n",
              "      <td>0.04</td>\n",
              "      <td>0.0</td>\n",
              "      <td>0.06</td>\n",
              "      <td>...</td>\n",
              "      <td>Vegetables</td>\n",
              "      <td>Grøntsager</td>\n",
              "      <td>10006355</td>\n",
              "      <td>Squash (Calabaza)</td>\n",
              "      <td>50000000.0</td>\n",
              "      <td>Food/Beverage/Tobacco</td>\n",
              "      <td>50260000.0</td>\n",
              "      <td>Vegetables (Non Leaf) – Unprepared/Unprocessed...</td>\n",
              "      <td>50260700.0</td>\n",
              "      <td>Cucurbits – Edible Peel</td>\n",
              "    </tr>\n",
              "  </tbody>\n",
              "</table>\n",
              "<p>3 rows × 33 columns</p>\n",
              "</div>\n",
              "      <button class=\"colab-df-convert\" onclick=\"convertToInteractive('df-fd4ef3a1-8629-4d05-be81-3fa1430d0928')\"\n",
              "              title=\"Convert this dataframe to an interactive table.\"\n",
              "              style=\"display:none;\">\n",
              "        \n",
              "  <svg xmlns=\"http://www.w3.org/2000/svg\" height=\"24px\"viewBox=\"0 0 24 24\"\n",
              "       width=\"24px\">\n",
              "    <path d=\"M0 0h24v24H0V0z\" fill=\"none\"/>\n",
              "    <path d=\"M18.56 5.44l.94 2.06.94-2.06 2.06-.94-2.06-.94-.94-2.06-.94 2.06-2.06.94zm-11 1L8.5 8.5l.94-2.06 2.06-.94-2.06-.94L8.5 2.5l-.94 2.06-2.06.94zm10 10l.94 2.06.94-2.06 2.06-.94-2.06-.94-.94-2.06-.94 2.06-2.06.94z\"/><path d=\"M17.41 7.96l-1.37-1.37c-.4-.4-.92-.59-1.43-.59-.52 0-1.04.2-1.43.59L10.3 9.45l-7.72 7.72c-.78.78-.78 2.05 0 2.83L4 21.41c.39.39.9.59 1.41.59.51 0 1.02-.2 1.41-.59l7.78-7.78 2.81-2.81c.8-.78.8-2.07 0-2.86zM5.41 20L4 18.59l7.72-7.72 1.47 1.35L5.41 20z\"/>\n",
              "  </svg>\n",
              "      </button>\n",
              "      \n",
              "  <style>\n",
              "    .colab-df-container {\n",
              "      display:flex;\n",
              "      flex-wrap:wrap;\n",
              "      gap: 12px;\n",
              "    }\n",
              "\n",
              "    .colab-df-convert {\n",
              "      background-color: #E8F0FE;\n",
              "      border: none;\n",
              "      border-radius: 50%;\n",
              "      cursor: pointer;\n",
              "      display: none;\n",
              "      fill: #1967D2;\n",
              "      height: 32px;\n",
              "      padding: 0 0 0 0;\n",
              "      width: 32px;\n",
              "    }\n",
              "\n",
              "    .colab-df-convert:hover {\n",
              "      background-color: #E2EBFA;\n",
              "      box-shadow: 0px 1px 2px rgba(60, 64, 67, 0.3), 0px 1px 3px 1px rgba(60, 64, 67, 0.15);\n",
              "      fill: #174EA6;\n",
              "    }\n",
              "\n",
              "    [theme=dark] .colab-df-convert {\n",
              "      background-color: #3B4455;\n",
              "      fill: #D2E3FC;\n",
              "    }\n",
              "\n",
              "    [theme=dark] .colab-df-convert:hover {\n",
              "      background-color: #434B5C;\n",
              "      box-shadow: 0px 1px 3px 1px rgba(0, 0, 0, 0.15);\n",
              "      filter: drop-shadow(0px 1px 2px rgba(0, 0, 0, 0.3));\n",
              "      fill: #FFFFFF;\n",
              "    }\n",
              "  </style>\n",
              "\n",
              "      <script>\n",
              "        const buttonEl =\n",
              "          document.querySelector('#df-fd4ef3a1-8629-4d05-be81-3fa1430d0928 button.colab-df-convert');\n",
              "        buttonEl.style.display =\n",
              "          google.colab.kernel.accessAllowed ? 'block' : 'none';\n",
              "\n",
              "        async function convertToInteractive(key) {\n",
              "          const element = document.querySelector('#df-fd4ef3a1-8629-4d05-be81-3fa1430d0928');\n",
              "          const dataTable =\n",
              "            await google.colab.kernel.invokeFunction('convertToInteractive',\n",
              "                                                     [key], {});\n",
              "          if (!dataTable) return;\n",
              "\n",
              "          const docLinkHtml = 'Like what you see? Visit the ' +\n",
              "            '<a target=\"_blank\" href=https://colab.research.google.com/notebooks/data_table.ipynb>data table notebook</a>'\n",
              "            + ' to learn more about interactive tables.';\n",
              "          element.innerHTML = '';\n",
              "          dataTable['output_type'] = 'display_data';\n",
              "          await google.colab.output.renderOutput(dataTable, element);\n",
              "          const docLink = document.createElement('div');\n",
              "          docLink.innerHTML = docLinkHtml;\n",
              "          element.appendChild(docLink);\n",
              "        }\n",
              "      </script>\n",
              "    </div>\n",
              "  </div>\n",
              "  "
            ]
          },
          "metadata": {},
          "execution_count": 6
        }
      ]
    },
    {
      "cell_type": "code",
      "source": [
        "data[\"GPC_Level3\"].unique()"
      ],
      "metadata": {
        "colab": {
          "base_uri": "https://localhost:8080/"
        },
        "id": "Vkiv-tHO7h9f",
        "outputId": "35db4a59-7877-41d1-a331-209db220e8a1"
      },
      "execution_count": null,
      "outputs": [
        {
          "output_type": "execute_result",
          "data": {
            "text/plain": [
              "array([50260400., 50260300., 50260700., 50260500., 50102100., 50260900.,\n",
              "       50260600., 50240200., 50202200., 50182100., 50181900., 50221200.,\n",
              "       50131900., 50182000., 50240100., 50201700., 50202400., 50171800.,\n",
              "             nan, 50132100., 50202300., 50131800., 50121900., 50221000.,\n",
              "       50132500., 50121500., 50171900., 50102000., 50161800., 50261300.,\n",
              "       50260200., 50101800., 50192400., 50192300., 50171700., 50171500.,\n",
              "       50261600., 50261100., 50350500., 50350200., 50350300., 50290100.,\n",
              "       50261400., 50261500., 50262200., 50121700., 50261700., 50131700.,\n",
              "       50193800., 50191500., 50182200., 50161500., 50192900., 50250800.,\n",
              "       50250600., 50192500., 50260100., 94022500., 50122100., 50192100.,\n",
              "       50251000., 50250900., 50330100., 50251400., 50181700., 50250700.,\n",
              "       50260800., 50251100., 50251900., 50251200., 50132000., 50151500.,\n",
              "       50193100., 93011200., 50193500., 50193400., 50193600., 50193300.,\n",
              "       50151600., 50193200.])"
            ]
          },
          "metadata": {},
          "execution_count": 35
        }
      ]
    },
    {
      "cell_type": "code",
      "source": [
        "# How big is the dataset (no of Rows, no of Columns)\n",
        "data.shape"
      ],
      "metadata": {
        "colab": {
          "base_uri": "https://localhost:8080/"
        },
        "id": "H3ZvJ0PJAiYU",
        "outputId": "4e7c9a6e-ee39-4a68-a2d6-ffe4b814b413"
      },
      "execution_count": null,
      "outputs": [
        {
          "output_type": "execute_result",
          "data": {
            "text/plain": [
              "(500, 33)"
            ]
          },
          "metadata": {},
          "execution_count": 11
        }
      ]
    },
    {
      "cell_type": "code",
      "source": [
        "\"\"\"# Have a look the Data Source and Comments part to explore how the data were outsourced)\n",
        "rep= \"Data are obtained as products on the Danish crop market, where supplying countries are identified based on trade statistics\"\n",
        "\n",
        "\n",
        "for row, col in data[[\"Category_en\", 'Product_en', \"Data_Source\", \"Comments\"]].iterrows():\n",
        "  category= col[\"Category_en\"] \n",
        "  product= col['Product_en']\n",
        "  source= col[\"Data_Source\"]\n",
        "  comment_list= col['Comments'].split(\".\")[1:-4]\n",
        "  comment= \",\".join(comment_list)\n",
        "  print(f\"Product: {product} (Category of product: {category})\")\n",
        "  print(\"Comment about data acquisition:\", comment)\n",
        "  print(\"Data Source:\", source)\n",
        "  print(\"---------------------------------------------------------------\")\n",
        "\"\"\""
      ],
      "metadata": {
        "colab": {
          "base_uri": "https://localhost:8080/",
          "height": 87
        },
        "id": "fyuXKRH-_yXM",
        "outputId": "73fe2425-12f6-413a-d036-3412fc68209e"
      },
      "execution_count": null,
      "outputs": [
        {
          "output_type": "execute_result",
          "data": {
            "text/plain": [
              "'# Have a look the Data Source and Comments part to explore how the data were outsourced)\\nrep= \"Data are obtained as products on the Danish crop market, where supplying countries are identified based on trade statistics\"\\n\\n\\nfor row, col in data[[\"Category_en\", \\'Product_en\\', \"Data_Source\", \"Comments\"]].iterrows():\\n  category= col[\"Category_en\"] \\n  product= col[\\'Product_en\\']\\n  source= col[\"Data_Source\"]\\n  comment_list= col[\\'Comments\\'].split(\".\")[1:-4]\\n  comment= \",\".join(comment_list)\\n  print(f\"Product: {product} (Category of product: {category})\")\\n  print(\"Comment about data acquisition:\", comment)\\n  print(\"Data Source:\", source)\\n  print(\"---------------------------------------------------------------\")\\n'"
            ],
            "application/vnd.google.colaboratory.intrinsic+json": {
              "type": "string"
            }
          },
          "metadata": {},
          "execution_count": 7
        }
      ]
    },
    {
      "cell_type": "markdown",
      "source": [
        "***Let´s have a look dataset with only selected columns that make sense***"
      ],
      "metadata": {
        "id": "mUS0lPnEPGMl"
      }
    },
    {
      "cell_type": "code",
      "source": [
        "# cols_to_use= [\"Product_en\", \"Category_en\", \"Unit\", \"Agriculture\", \"iLUC\", \"Processing\", \"Packaging\", \"Transport\", \"Retail\", \"Total_CO2_eq/kg\", \"Energy_KJ\", \"Fat_g\", \"Carbohydrate_g\", \"Protein_g\", \"ID_Food\", \"ID_Pack\", \"ID_Retail\", \"product_type\", \"GPC_level1\", \"GPC_level2\", \"GPC_Level3\"]\n",
        "# cols_to_use= [\"Product_en\", \"Category_en\", \"Agriculture\", \"iLUC\", \"Processing\", \"Packaging\", \"Transport\", \"Retail\", \"Total_CO2_eq/kg\", \"Energy_KJ\", \"Fat_g\", \"Carb_g\", \"Protein_g\"]\n",
        "cols_to_use= [\"Product_en\", \"Category_en\", \"Agriculture\", \"iLUC\", \"Processing\", \"Packaging\", \"Transport\", \"Retail\", \"Total_CO2_eq/kg\", \"Energy_KJ\", \"Fat_g\", \"Carb_g\", \"Protein_g\"]\n",
        "\n",
        "selected_data= data.loc[:, cols_to_use].round(decimals = 2)\n",
        "selected_data.head()\n"
      ],
      "metadata": {
        "colab": {
          "base_uri": "https://localhost:8080/",
          "height": 206
        },
        "id": "oO-Zch20jjuZ",
        "outputId": "f56c0c45-ff1c-4cc5-87c1-9793b8945bef"
      },
      "execution_count": null,
      "outputs": [
        {
          "output_type": "execute_result",
          "data": {
            "text/html": [
              "\n",
              "  <div id=\"df-3d1f1087-96d4-4c67-a602-850c73333b80\">\n",
              "    <div class=\"colab-df-container\">\n",
              "      <div>\n",
              "<style scoped>\n",
              "    .dataframe tbody tr th:only-of-type {\n",
              "        vertical-align: middle;\n",
              "    }\n",
              "\n",
              "    .dataframe tbody tr th {\n",
              "        vertical-align: top;\n",
              "    }\n",
              "\n",
              "    .dataframe thead th {\n",
              "        text-align: right;\n",
              "    }\n",
              "</style>\n",
              "<table border=\"1\" class=\"dataframe\">\n",
              "  <thead>\n",
              "    <tr style=\"text-align: right;\">\n",
              "      <th></th>\n",
              "      <th>Product_en</th>\n",
              "      <th>Category_en</th>\n",
              "      <th>Agriculture</th>\n",
              "      <th>iLUC</th>\n",
              "      <th>Processing</th>\n",
              "      <th>Packaging</th>\n",
              "      <th>Transport</th>\n",
              "      <th>Retail</th>\n",
              "      <th>Total_CO2_eq/kg</th>\n",
              "      <th>Energy_KJ</th>\n",
              "      <th>Fat_g</th>\n",
              "      <th>Carb_g</th>\n",
              "      <th>Protein_g</th>\n",
              "    </tr>\n",
              "  </thead>\n",
              "  <tbody>\n",
              "    <tr>\n",
              "      <th>0</th>\n",
              "      <td>Pepper, sweet, red, raw</td>\n",
              "      <td>Vegetables</td>\n",
              "      <td>0.25</td>\n",
              "      <td>0.03</td>\n",
              "      <td>0.0</td>\n",
              "      <td>0.14</td>\n",
              "      <td>0.58</td>\n",
              "      <td>0.01</td>\n",
              "      <td>1.02</td>\n",
              "      <td>133.0</td>\n",
              "      <td>0.1</td>\n",
              "      <td>5.2</td>\n",
              "      <td>0.9</td>\n",
              "    </tr>\n",
              "    <tr>\n",
              "      <th>1</th>\n",
              "      <td>Tomato, ripe, raw, origin unknown</td>\n",
              "      <td>Vegetables</td>\n",
              "      <td>0.07</td>\n",
              "      <td>0.01</td>\n",
              "      <td>0.0</td>\n",
              "      <td>0.14</td>\n",
              "      <td>0.48</td>\n",
              "      <td>0.01</td>\n",
              "      <td>0.70</td>\n",
              "      <td>87.0</td>\n",
              "      <td>0.1</td>\n",
              "      <td>3.2</td>\n",
              "      <td>0.8</td>\n",
              "    </tr>\n",
              "    <tr>\n",
              "      <th>2</th>\n",
              "      <td>Squash, raw</td>\n",
              "      <td>Vegetables</td>\n",
              "      <td>0.14</td>\n",
              "      <td>0.04</td>\n",
              "      <td>0.0</td>\n",
              "      <td>0.06</td>\n",
              "      <td>0.58</td>\n",
              "      <td>0.01</td>\n",
              "      <td>0.83</td>\n",
              "      <td>81.0</td>\n",
              "      <td>0.2</td>\n",
              "      <td>2.4</td>\n",
              "      <td>1.4</td>\n",
              "    </tr>\n",
              "    <tr>\n",
              "      <th>3</th>\n",
              "      <td>Aubergine, raw</td>\n",
              "      <td>Vegetables</td>\n",
              "      <td>0.16</td>\n",
              "      <td>0.02</td>\n",
              "      <td>0.0</td>\n",
              "      <td>0.14</td>\n",
              "      <td>0.65</td>\n",
              "      <td>0.01</td>\n",
              "      <td>0.97</td>\n",
              "      <td>83.0</td>\n",
              "      <td>0.1</td>\n",
              "      <td>3.1</td>\n",
              "      <td>0.9</td>\n",
              "    </tr>\n",
              "    <tr>\n",
              "      <th>4</th>\n",
              "      <td>Tomato, dried</td>\n",
              "      <td>Vegetables</td>\n",
              "      <td>0.91</td>\n",
              "      <td>0.09</td>\n",
              "      <td>-0.0</td>\n",
              "      <td>0.26</td>\n",
              "      <td>0.68</td>\n",
              "      <td>0.01</td>\n",
              "      <td>1.95</td>\n",
              "      <td>1187.0</td>\n",
              "      <td>3.0</td>\n",
              "      <td>43.5</td>\n",
              "      <td>14.1</td>\n",
              "    </tr>\n",
              "  </tbody>\n",
              "</table>\n",
              "</div>\n",
              "      <button class=\"colab-df-convert\" onclick=\"convertToInteractive('df-3d1f1087-96d4-4c67-a602-850c73333b80')\"\n",
              "              title=\"Convert this dataframe to an interactive table.\"\n",
              "              style=\"display:none;\">\n",
              "        \n",
              "  <svg xmlns=\"http://www.w3.org/2000/svg\" height=\"24px\"viewBox=\"0 0 24 24\"\n",
              "       width=\"24px\">\n",
              "    <path d=\"M0 0h24v24H0V0z\" fill=\"none\"/>\n",
              "    <path d=\"M18.56 5.44l.94 2.06.94-2.06 2.06-.94-2.06-.94-.94-2.06-.94 2.06-2.06.94zm-11 1L8.5 8.5l.94-2.06 2.06-.94-2.06-.94L8.5 2.5l-.94 2.06-2.06.94zm10 10l.94 2.06.94-2.06 2.06-.94-2.06-.94-.94-2.06-.94 2.06-2.06.94z\"/><path d=\"M17.41 7.96l-1.37-1.37c-.4-.4-.92-.59-1.43-.59-.52 0-1.04.2-1.43.59L10.3 9.45l-7.72 7.72c-.78.78-.78 2.05 0 2.83L4 21.41c.39.39.9.59 1.41.59.51 0 1.02-.2 1.41-.59l7.78-7.78 2.81-2.81c.8-.78.8-2.07 0-2.86zM5.41 20L4 18.59l7.72-7.72 1.47 1.35L5.41 20z\"/>\n",
              "  </svg>\n",
              "      </button>\n",
              "      \n",
              "  <style>\n",
              "    .colab-df-container {\n",
              "      display:flex;\n",
              "      flex-wrap:wrap;\n",
              "      gap: 12px;\n",
              "    }\n",
              "\n",
              "    .colab-df-convert {\n",
              "      background-color: #E8F0FE;\n",
              "      border: none;\n",
              "      border-radius: 50%;\n",
              "      cursor: pointer;\n",
              "      display: none;\n",
              "      fill: #1967D2;\n",
              "      height: 32px;\n",
              "      padding: 0 0 0 0;\n",
              "      width: 32px;\n",
              "    }\n",
              "\n",
              "    .colab-df-convert:hover {\n",
              "      background-color: #E2EBFA;\n",
              "      box-shadow: 0px 1px 2px rgba(60, 64, 67, 0.3), 0px 1px 3px 1px rgba(60, 64, 67, 0.15);\n",
              "      fill: #174EA6;\n",
              "    }\n",
              "\n",
              "    [theme=dark] .colab-df-convert {\n",
              "      background-color: #3B4455;\n",
              "      fill: #D2E3FC;\n",
              "    }\n",
              "\n",
              "    [theme=dark] .colab-df-convert:hover {\n",
              "      background-color: #434B5C;\n",
              "      box-shadow: 0px 1px 3px 1px rgba(0, 0, 0, 0.15);\n",
              "      filter: drop-shadow(0px 1px 2px rgba(0, 0, 0, 0.3));\n",
              "      fill: #FFFFFF;\n",
              "    }\n",
              "  </style>\n",
              "\n",
              "      <script>\n",
              "        const buttonEl =\n",
              "          document.querySelector('#df-3d1f1087-96d4-4c67-a602-850c73333b80 button.colab-df-convert');\n",
              "        buttonEl.style.display =\n",
              "          google.colab.kernel.accessAllowed ? 'block' : 'none';\n",
              "\n",
              "        async function convertToInteractive(key) {\n",
              "          const element = document.querySelector('#df-3d1f1087-96d4-4c67-a602-850c73333b80');\n",
              "          const dataTable =\n",
              "            await google.colab.kernel.invokeFunction('convertToInteractive',\n",
              "                                                     [key], {});\n",
              "          if (!dataTable) return;\n",
              "\n",
              "          const docLinkHtml = 'Like what you see? Visit the ' +\n",
              "            '<a target=\"_blank\" href=https://colab.research.google.com/notebooks/data_table.ipynb>data table notebook</a>'\n",
              "            + ' to learn more about interactive tables.';\n",
              "          element.innerHTML = '';\n",
              "          dataTable['output_type'] = 'display_data';\n",
              "          await google.colab.output.renderOutput(dataTable, element);\n",
              "          const docLink = document.createElement('div');\n",
              "          docLink.innerHTML = docLinkHtml;\n",
              "          element.appendChild(docLink);\n",
              "        }\n",
              "      </script>\n",
              "    </div>\n",
              "  </div>\n",
              "  "
            ],
            "text/plain": [
              "                          Product_en Category_en  ...  Carb_g  Protein_g\n",
              "0            Pepper, sweet, red, raw  Vegetables  ...     5.2        0.9\n",
              "1  Tomato, ripe, raw, origin unknown  Vegetables  ...     3.2        0.8\n",
              "2                        Squash, raw  Vegetables  ...     2.4        1.4\n",
              "3                     Aubergine, raw  Vegetables  ...     3.1        0.9\n",
              "4                      Tomato, dried  Vegetables  ...    43.5       14.1\n",
              "\n",
              "[5 rows x 13 columns]"
            ]
          },
          "metadata": {},
          "execution_count": 13
        }
      ]
    },
    {
      "cell_type": "code",
      "source": [
        "selected_data.tail(10)"
      ],
      "metadata": {
        "colab": {
          "base_uri": "https://localhost:8080/",
          "height": 362
        },
        "id": "X3NjHtMn77RH",
        "outputId": "ac4b03fd-1a61-43a4-8aa5-5572be24c823"
      },
      "execution_count": null,
      "outputs": [
        {
          "output_type": "execute_result",
          "data": {
            "text/html": [
              "\n",
              "  <div id=\"df-7a916424-5f78-42b8-a802-67d521a291f7\">\n",
              "    <div class=\"colab-df-container\">\n",
              "      <div>\n",
              "<style scoped>\n",
              "    .dataframe tbody tr th:only-of-type {\n",
              "        vertical-align: middle;\n",
              "    }\n",
              "\n",
              "    .dataframe tbody tr th {\n",
              "        vertical-align: top;\n",
              "    }\n",
              "\n",
              "    .dataframe thead th {\n",
              "        text-align: right;\n",
              "    }\n",
              "</style>\n",
              "<table border=\"1\" class=\"dataframe\">\n",
              "  <thead>\n",
              "    <tr style=\"text-align: right;\">\n",
              "      <th></th>\n",
              "      <th>Product_en</th>\n",
              "      <th>Category_en</th>\n",
              "      <th>Agriculture</th>\n",
              "      <th>iLUC</th>\n",
              "      <th>Processing</th>\n",
              "      <th>Packaging</th>\n",
              "      <th>Transport</th>\n",
              "      <th>Retail</th>\n",
              "      <th>Total_CO2_eq/kg</th>\n",
              "      <th>Energy_KJ</th>\n",
              "      <th>Fat_g</th>\n",
              "      <th>Carb_g</th>\n",
              "      <th>Protein_g</th>\n",
              "    </tr>\n",
              "  </thead>\n",
              "  <tbody>\n",
              "    <tr>\n",
              "      <th>490</th>\n",
              "      <td>Apple juice</td>\n",
              "      <td>Beverages</td>\n",
              "      <td>0.32</td>\n",
              "      <td>0.02</td>\n",
              "      <td>0.61</td>\n",
              "      <td>0.31</td>\n",
              "      <td>0.37</td>\n",
              "      <td>0.01</td>\n",
              "      <td>1.64</td>\n",
              "      <td>183.0</td>\n",
              "      <td>0.5</td>\n",
              "      <td>10</td>\n",
              "      <td>0.5</td>\n",
              "    </tr>\n",
              "    <tr>\n",
              "      <th>491</th>\n",
              "      <td>Minced lamb</td>\n",
              "      <td>Meat/poultry</td>\n",
              "      <td>24.01</td>\n",
              "      <td>6.26</td>\n",
              "      <td>-4.22</td>\n",
              "      <td>0.14</td>\n",
              "      <td>0.11</td>\n",
              "      <td>0.00</td>\n",
              "      <td>26.30</td>\n",
              "      <td>639.0</td>\n",
              "      <td>14.0</td>\n",
              "      <td>0</td>\n",
              "      <td>20</td>\n",
              "    </tr>\n",
              "    <tr>\n",
              "      <th>492</th>\n",
              "      <td>Burger buns</td>\n",
              "      <td>Bread/bakery products</td>\n",
              "      <td>0.38</td>\n",
              "      <td>0.04</td>\n",
              "      <td>0.16</td>\n",
              "      <td>0.04</td>\n",
              "      <td>0.10</td>\n",
              "      <td>0.01</td>\n",
              "      <td>0.74</td>\n",
              "      <td>1258.0</td>\n",
              "      <td>5.6</td>\n",
              "      <td>53</td>\n",
              "      <td>8.6</td>\n",
              "    </tr>\n",
              "    <tr>\n",
              "      <th>493</th>\n",
              "      <td>Blue cheese</td>\n",
              "      <td>Milk/eggs/substitute products</td>\n",
              "      <td>2.67</td>\n",
              "      <td>0.15</td>\n",
              "      <td>-0.37</td>\n",
              "      <td>0.35</td>\n",
              "      <td>0.11</td>\n",
              "      <td>0.00</td>\n",
              "      <td>2.92</td>\n",
              "      <td>1623.0</td>\n",
              "      <td>36.0</td>\n",
              "      <td>0.1</td>\n",
              "      <td>17</td>\n",
              "    </tr>\n",
              "    <tr>\n",
              "      <th>494</th>\n",
              "      <td>Goat cheese</td>\n",
              "      <td>Milk/eggs/substitute products</td>\n",
              "      <td>2.67</td>\n",
              "      <td>0.15</td>\n",
              "      <td>-0.37</td>\n",
              "      <td>0.35</td>\n",
              "      <td>0.11</td>\n",
              "      <td>0.00</td>\n",
              "      <td>2.92</td>\n",
              "      <td>1393.0</td>\n",
              "      <td>28.0</td>\n",
              "      <td>1</td>\n",
              "      <td>20</td>\n",
              "    </tr>\n",
              "    <tr>\n",
              "      <th>495</th>\n",
              "      <td>Vegan cheese, grated or sliced</td>\n",
              "      <td>Milk/eggs/substitute products</td>\n",
              "      <td>0.07</td>\n",
              "      <td>0.12</td>\n",
              "      <td>0.39</td>\n",
              "      <td>0.35</td>\n",
              "      <td>0.07</td>\n",
              "      <td>0.01</td>\n",
              "      <td>1.00</td>\n",
              "      <td>1037.0</td>\n",
              "      <td>17.0</td>\n",
              "      <td>22.8</td>\n",
              "      <td>1.3</td>\n",
              "    </tr>\n",
              "    <tr>\n",
              "      <th>496</th>\n",
              "      <td>Samosa, vegetarian frost</td>\n",
              "      <td>Prepared/preserved foods</td>\n",
              "      <td>0.29</td>\n",
              "      <td>0.09</td>\n",
              "      <td>0.40</td>\n",
              "      <td>0.24</td>\n",
              "      <td>0.13</td>\n",
              "      <td>0.03</td>\n",
              "      <td>1.17</td>\n",
              "      <td>791.0</td>\n",
              "      <td>10.2</td>\n",
              "      <td>21.3</td>\n",
              "      <td>3</td>\n",
              "    </tr>\n",
              "    <tr>\n",
              "      <th>497</th>\n",
              "      <td>Cold chocolate</td>\n",
              "      <td>Candy/sugar products</td>\n",
              "      <td>1.83</td>\n",
              "      <td>0.34</td>\n",
              "      <td>2.52</td>\n",
              "      <td>0.38</td>\n",
              "      <td>0.11</td>\n",
              "      <td>0.01</td>\n",
              "      <td>5.18</td>\n",
              "      <td>2403.0</td>\n",
              "      <td>40.0</td>\n",
              "      <td>44</td>\n",
              "      <td>8.9</td>\n",
              "    </tr>\n",
              "    <tr>\n",
              "      <th>498</th>\n",
              "      <td>Nutella, nut cream</td>\n",
              "      <td>Candy/sugar products</td>\n",
              "      <td>1.68</td>\n",
              "      <td>0.44</td>\n",
              "      <td>1.32</td>\n",
              "      <td>0.42</td>\n",
              "      <td>0.10</td>\n",
              "      <td>0.01</td>\n",
              "      <td>3.97</td>\n",
              "      <td>2278.0</td>\n",
              "      <td>31.6</td>\n",
              "      <td>57.6</td>\n",
              "      <td>6</td>\n",
              "    </tr>\n",
              "    <tr>\n",
              "      <th>499</th>\n",
              "      <td>Smoothie, strawberry blueberry</td>\n",
              "      <td>Beverages</td>\n",
              "      <td>0.40</td>\n",
              "      <td>0.07</td>\n",
              "      <td>0.10</td>\n",
              "      <td>0.31</td>\n",
              "      <td>1.29</td>\n",
              "      <td>0.00</td>\n",
              "      <td>2.16</td>\n",
              "      <td>183.0</td>\n",
              "      <td>0.0</td>\n",
              "      <td>9.5</td>\n",
              "      <td>0.4</td>\n",
              "    </tr>\n",
              "  </tbody>\n",
              "</table>\n",
              "</div>\n",
              "      <button class=\"colab-df-convert\" onclick=\"convertToInteractive('df-7a916424-5f78-42b8-a802-67d521a291f7')\"\n",
              "              title=\"Convert this dataframe to an interactive table.\"\n",
              "              style=\"display:none;\">\n",
              "        \n",
              "  <svg xmlns=\"http://www.w3.org/2000/svg\" height=\"24px\"viewBox=\"0 0 24 24\"\n",
              "       width=\"24px\">\n",
              "    <path d=\"M0 0h24v24H0V0z\" fill=\"none\"/>\n",
              "    <path d=\"M18.56 5.44l.94 2.06.94-2.06 2.06-.94-2.06-.94-.94-2.06-.94 2.06-2.06.94zm-11 1L8.5 8.5l.94-2.06 2.06-.94-2.06-.94L8.5 2.5l-.94 2.06-2.06.94zm10 10l.94 2.06.94-2.06 2.06-.94-2.06-.94-.94-2.06-.94 2.06-2.06.94z\"/><path d=\"M17.41 7.96l-1.37-1.37c-.4-.4-.92-.59-1.43-.59-.52 0-1.04.2-1.43.59L10.3 9.45l-7.72 7.72c-.78.78-.78 2.05 0 2.83L4 21.41c.39.39.9.59 1.41.59.51 0 1.02-.2 1.41-.59l7.78-7.78 2.81-2.81c.8-.78.8-2.07 0-2.86zM5.41 20L4 18.59l7.72-7.72 1.47 1.35L5.41 20z\"/>\n",
              "  </svg>\n",
              "      </button>\n",
              "      \n",
              "  <style>\n",
              "    .colab-df-container {\n",
              "      display:flex;\n",
              "      flex-wrap:wrap;\n",
              "      gap: 12px;\n",
              "    }\n",
              "\n",
              "    .colab-df-convert {\n",
              "      background-color: #E8F0FE;\n",
              "      border: none;\n",
              "      border-radius: 50%;\n",
              "      cursor: pointer;\n",
              "      display: none;\n",
              "      fill: #1967D2;\n",
              "      height: 32px;\n",
              "      padding: 0 0 0 0;\n",
              "      width: 32px;\n",
              "    }\n",
              "\n",
              "    .colab-df-convert:hover {\n",
              "      background-color: #E2EBFA;\n",
              "      box-shadow: 0px 1px 2px rgba(60, 64, 67, 0.3), 0px 1px 3px 1px rgba(60, 64, 67, 0.15);\n",
              "      fill: #174EA6;\n",
              "    }\n",
              "\n",
              "    [theme=dark] .colab-df-convert {\n",
              "      background-color: #3B4455;\n",
              "      fill: #D2E3FC;\n",
              "    }\n",
              "\n",
              "    [theme=dark] .colab-df-convert:hover {\n",
              "      background-color: #434B5C;\n",
              "      box-shadow: 0px 1px 3px 1px rgba(0, 0, 0, 0.15);\n",
              "      filter: drop-shadow(0px 1px 2px rgba(0, 0, 0, 0.3));\n",
              "      fill: #FFFFFF;\n",
              "    }\n",
              "  </style>\n",
              "\n",
              "      <script>\n",
              "        const buttonEl =\n",
              "          document.querySelector('#df-7a916424-5f78-42b8-a802-67d521a291f7 button.colab-df-convert');\n",
              "        buttonEl.style.display =\n",
              "          google.colab.kernel.accessAllowed ? 'block' : 'none';\n",
              "\n",
              "        async function convertToInteractive(key) {\n",
              "          const element = document.querySelector('#df-7a916424-5f78-42b8-a802-67d521a291f7');\n",
              "          const dataTable =\n",
              "            await google.colab.kernel.invokeFunction('convertToInteractive',\n",
              "                                                     [key], {});\n",
              "          if (!dataTable) return;\n",
              "\n",
              "          const docLinkHtml = 'Like what you see? Visit the ' +\n",
              "            '<a target=\"_blank\" href=https://colab.research.google.com/notebooks/data_table.ipynb>data table notebook</a>'\n",
              "            + ' to learn more about interactive tables.';\n",
              "          element.innerHTML = '';\n",
              "          dataTable['output_type'] = 'display_data';\n",
              "          await google.colab.output.renderOutput(dataTable, element);\n",
              "          const docLink = document.createElement('div');\n",
              "          docLink.innerHTML = docLinkHtml;\n",
              "          element.appendChild(docLink);\n",
              "        }\n",
              "      </script>\n",
              "    </div>\n",
              "  </div>\n",
              "  "
            ],
            "text/plain": [
              "                         Product_en  ... Protein_g\n",
              "490                     Apple juice  ...       0.5\n",
              "491                     Minced lamb  ...        20\n",
              "492                     Burger buns  ...       8.6\n",
              "493                     Blue cheese  ...        17\n",
              "494                     Goat cheese  ...        20\n",
              "495  Vegan cheese, grated or sliced  ...       1.3\n",
              "496        Samosa, vegetarian frost  ...         3\n",
              "497                  Cold chocolate  ...       8.9\n",
              "498              Nutella, nut cream  ...         6\n",
              "499  Smoothie, strawberry blueberry  ...       0.4\n",
              "\n",
              "[10 rows x 13 columns]"
            ]
          },
          "metadata": {},
          "execution_count": 14
        }
      ]
    },
    {
      "cell_type": "code",
      "source": [
        "# Inspect the null values, Data Types of each columns\n",
        "selected_data.info()"
      ],
      "metadata": {
        "colab": {
          "base_uri": "https://localhost:8080/"
        },
        "id": "oKkTi62-q_1z",
        "outputId": "9d211779-d8e1-4d89-b743-2cccc18a353e"
      },
      "execution_count": null,
      "outputs": [
        {
          "output_type": "stream",
          "name": "stdout",
          "text": [
            "<class 'pandas.core.frame.DataFrame'>\n",
            "RangeIndex: 500 entries, 0 to 499\n",
            "Data columns (total 13 columns):\n",
            " #   Column           Non-Null Count  Dtype  \n",
            "---  ------           --------------  -----  \n",
            " 0   Product_en       500 non-null    object \n",
            " 1   Category_en      500 non-null    object \n",
            " 2   Agriculture      500 non-null    float64\n",
            " 3   iLUC             500 non-null    float64\n",
            " 4   Processing       500 non-null    float64\n",
            " 5   Packaging        500 non-null    float64\n",
            " 6   Transport        500 non-null    float64\n",
            " 7   Retail           500 non-null    float64\n",
            " 8   Total_CO2_eq/kg  500 non-null    float64\n",
            " 9   Energy_KJ        500 non-null    float64\n",
            " 10  Fat_g            500 non-null    float64\n",
            " 11  Carb_g           500 non-null    object \n",
            " 12  Protein_g        500 non-null    object \n",
            "dtypes: float64(9), object(4)\n",
            "memory usage: 50.9+ KB\n"
          ]
        }
      ]
    },
    {
      "cell_type": "code",
      "source": [
        "\"\"\"# Here need to change Carb_g & Protein_g data object data type to float data type\n",
        "selected_data[\"Carb_g\"]= [float(str(i).replace(\",\", \"\")) for i in selected_data.Carb_g]]\n",
        "\n",
        "\n",
        "#df = df.replace(r'^\\s*$', np.nan, regex=True)\n",
        "#selected_data[\"Protein_g\"]= selected_data.Protein_g.astype(float, errors='coerce')\n",
        "selected_data.info()\"\"\""
      ],
      "metadata": {
        "colab": {
          "base_uri": "https://localhost:8080/",
          "height": 53
        },
        "id": "Ab4xsgdpdaux",
        "outputId": "181fee99-7196-45ea-9d8b-90beccb7f8a3"
      },
      "execution_count": null,
      "outputs": [
        {
          "output_type": "execute_result",
          "data": {
            "application/vnd.google.colaboratory.intrinsic+json": {
              "type": "string"
            },
            "text/plain": [
              "'# Here need to change Carb_g & Protein_g data object data type to float data type\\nselected_data[\"Carb_g\"]= [float(str(i).replace(\",\", \"\")) for i in selected_data.Carb_g]]\\n\\n\\n#df = df.replace(r\\'^\\\\s*$\\', np.nan, regex=True)\\n#selected_data[\"Protein_g\"]= selected_data.Protein_g.astype(float, errors=\\'coerce\\')\\nselected_data.info()'"
            ]
          },
          "metadata": {},
          "execution_count": 16
        }
      ]
    },
    {
      "cell_type": "code",
      "source": [
        "# Lets check the NAN/Missing values of Data as per columns\n",
        "selected_data.isna().sum()"
      ],
      "metadata": {
        "colab": {
          "base_uri": "https://localhost:8080/"
        },
        "id": "_sIRnQWFs2xw",
        "outputId": "3b021b49-122e-4b14-db18-0c55cd5fb9a8"
      },
      "execution_count": null,
      "outputs": [
        {
          "output_type": "execute_result",
          "data": {
            "text/plain": [
              "Product_en         0\n",
              "Category_en        0\n",
              "Agriculture        0\n",
              "iLUC               0\n",
              "Processing         0\n",
              "Packaging          0\n",
              "Transport          0\n",
              "Retail             0\n",
              "Total_CO2_eq/kg    0\n",
              "Energy_KJ          0\n",
              "Fat_g              0\n",
              "Carb_g             0\n",
              "Protein_g          0\n",
              "dtype: int64"
            ]
          },
          "metadata": {},
          "execution_count": 17
        }
      ]
    },
    {
      "cell_type": "markdown",
      "source": [
        ""
      ],
      "metadata": {
        "id": "ZK_n-z8Ss2LR"
      }
    },
    {
      "cell_type": "code",
      "source": [
        "# Inspect the numbers of \"UNIQUE\" values of each columns\n",
        "selected_data.nunique()"
      ],
      "metadata": {
        "colab": {
          "base_uri": "https://localhost:8080/"
        },
        "id": "RPw7Y3WrHfUQ",
        "outputId": "5ea6a49a-46aa-4123-80cf-113b28181cab"
      },
      "execution_count": null,
      "outputs": [
        {
          "output_type": "execute_result",
          "data": {
            "text/plain": [
              "Product_en         500\n",
              "Category_en         13\n",
              "Agriculture        162\n",
              "iLUC               129\n",
              "Processing         190\n",
              "Packaging           43\n",
              "Transport           68\n",
              "Retail               3\n",
              "Total_CO2_eq/kg    298\n",
              "Energy_KJ          429\n",
              "Fat_g              198\n",
              "Carb_g             241\n",
              "Protein_g          190\n",
              "dtype: int64"
            ]
          },
          "metadata": {},
          "execution_count": 18
        }
      ]
    },
    {
      "cell_type": "code",
      "source": [
        "# Inspect the numbers of \"UNIQUE\" values of selected columns\n",
        "selected_data['Category_en'].value_counts()"
      ],
      "metadata": {
        "colab": {
          "base_uri": "https://localhost:8080/"
        },
        "id": "gg7fUfxr9b-6",
        "outputId": "7238d76e-a092-4597-9c83-fb8549aa24ff"
      },
      "execution_count": null,
      "outputs": [
        {
          "output_type": "execute_result",
          "data": {
            "text/plain": [
              "Fruit/vegetable products             75\n",
              "Meat/poultry                         62\n",
              "Prepared/preserved foods             61\n",
              "Vegetables                           56\n",
              "Seafood                              51\n",
              "Bread/bakery products                34\n",
              "Beverages                            32\n",
              "Seasonings/preservatives/extracts    32\n",
              "Milk/eggs/substitute products        31\n",
              "Fruits                               27\n",
              "Cereal/grain/pulse products          22\n",
              "Candy/sugar products                 13\n",
              "Oils/fats edible                      4\n",
              "Name: Category_en, dtype: int64"
            ]
          },
          "metadata": {},
          "execution_count": 19
        }
      ]
    },
    {
      "cell_type": "code",
      "source": [
        "# Inspect the list of \"UNIQUE\" values of selected columns (especially make sense on catagorical data)\n",
        "selected_data[\"Category_en\"].unique()"
      ],
      "metadata": {
        "colab": {
          "base_uri": "https://localhost:8080/"
        },
        "id": "LWRiAxgrAuF8",
        "outputId": "97cbf7b8-1bfd-4e3e-fb72-7df46aa072a5"
      },
      "execution_count": null,
      "outputs": [
        {
          "output_type": "execute_result",
          "data": {
            "text/plain": [
              "array(['Vegetables', 'Meat/poultry', 'Beverages', 'Bread/bakery products',\n",
              "       'Cereal/grain/pulse products', 'Milk/eggs/substitute products',\n",
              "       'Seasonings/preservatives/extracts', 'Seafood',\n",
              "       'Fruit/vegetable products', 'Candy/sugar products',\n",
              "       'Prepared/preserved foods', 'Fruits', 'Oils/fats edible'],\n",
              "      dtype=object)"
            ]
          },
          "metadata": {},
          "execution_count": 20
        }
      ]
    },
    {
      "cell_type": "code",
      "source": [
        "# Inspect the smallest & largest values in the columns\n",
        "selected_data[['Product_en', \"Total_CO2_eq/kg\"]].groupby(by= ['Product_en'], sort=True).mean().nsmallest(5, [\"Total_CO2_eq/kg\"])\n"
      ],
      "metadata": {
        "colab": {
          "base_uri": "https://localhost:8080/",
          "height": 237
        },
        "id": "DFKvpZUiHfRs",
        "outputId": "1c37580e-add3-4ca3-c093-cbd8ce04c255"
      },
      "execution_count": null,
      "outputs": [
        {
          "output_type": "execute_result",
          "data": {
            "text/html": [
              "\n",
              "  <div id=\"df-738303f1-3128-4e89-a074-e8f4f23b1211\">\n",
              "    <div class=\"colab-df-container\">\n",
              "      <div>\n",
              "<style scoped>\n",
              "    .dataframe tbody tr th:only-of-type {\n",
              "        vertical-align: middle;\n",
              "    }\n",
              "\n",
              "    .dataframe tbody tr th {\n",
              "        vertical-align: top;\n",
              "    }\n",
              "\n",
              "    .dataframe thead th {\n",
              "        text-align: right;\n",
              "    }\n",
              "</style>\n",
              "<table border=\"1\" class=\"dataframe\">\n",
              "  <thead>\n",
              "    <tr style=\"text-align: right;\">\n",
              "      <th></th>\n",
              "      <th>Total_CO2_eq/kg</th>\n",
              "    </tr>\n",
              "    <tr>\n",
              "      <th>Product_en</th>\n",
              "      <th></th>\n",
              "    </tr>\n",
              "  </thead>\n",
              "  <tbody>\n",
              "    <tr>\n",
              "      <th>Water, tap, drinking, average values</th>\n",
              "      <td>0.00</td>\n",
              "    </tr>\n",
              "    <tr>\n",
              "      <th>Mussel, raw</th>\n",
              "      <td>0.22</td>\n",
              "    </tr>\n",
              "    <tr>\n",
              "      <th>Water, bottled, carbonated</th>\n",
              "      <td>0.22</td>\n",
              "    </tr>\n",
              "    <tr>\n",
              "      <th>Brussels sprouts, raw</th>\n",
              "      <td>0.25</td>\n",
              "    </tr>\n",
              "    <tr>\n",
              "      <th>Cabbage, Chinese, pak-choi, raw</th>\n",
              "      <td>0.25</td>\n",
              "    </tr>\n",
              "  </tbody>\n",
              "</table>\n",
              "</div>\n",
              "      <button class=\"colab-df-convert\" onclick=\"convertToInteractive('df-738303f1-3128-4e89-a074-e8f4f23b1211')\"\n",
              "              title=\"Convert this dataframe to an interactive table.\"\n",
              "              style=\"display:none;\">\n",
              "        \n",
              "  <svg xmlns=\"http://www.w3.org/2000/svg\" height=\"24px\"viewBox=\"0 0 24 24\"\n",
              "       width=\"24px\">\n",
              "    <path d=\"M0 0h24v24H0V0z\" fill=\"none\"/>\n",
              "    <path d=\"M18.56 5.44l.94 2.06.94-2.06 2.06-.94-2.06-.94-.94-2.06-.94 2.06-2.06.94zm-11 1L8.5 8.5l.94-2.06 2.06-.94-2.06-.94L8.5 2.5l-.94 2.06-2.06.94zm10 10l.94 2.06.94-2.06 2.06-.94-2.06-.94-.94-2.06-.94 2.06-2.06.94z\"/><path d=\"M17.41 7.96l-1.37-1.37c-.4-.4-.92-.59-1.43-.59-.52 0-1.04.2-1.43.59L10.3 9.45l-7.72 7.72c-.78.78-.78 2.05 0 2.83L4 21.41c.39.39.9.59 1.41.59.51 0 1.02-.2 1.41-.59l7.78-7.78 2.81-2.81c.8-.78.8-2.07 0-2.86zM5.41 20L4 18.59l7.72-7.72 1.47 1.35L5.41 20z\"/>\n",
              "  </svg>\n",
              "      </button>\n",
              "      \n",
              "  <style>\n",
              "    .colab-df-container {\n",
              "      display:flex;\n",
              "      flex-wrap:wrap;\n",
              "      gap: 12px;\n",
              "    }\n",
              "\n",
              "    .colab-df-convert {\n",
              "      background-color: #E8F0FE;\n",
              "      border: none;\n",
              "      border-radius: 50%;\n",
              "      cursor: pointer;\n",
              "      display: none;\n",
              "      fill: #1967D2;\n",
              "      height: 32px;\n",
              "      padding: 0 0 0 0;\n",
              "      width: 32px;\n",
              "    }\n",
              "\n",
              "    .colab-df-convert:hover {\n",
              "      background-color: #E2EBFA;\n",
              "      box-shadow: 0px 1px 2px rgba(60, 64, 67, 0.3), 0px 1px 3px 1px rgba(60, 64, 67, 0.15);\n",
              "      fill: #174EA6;\n",
              "    }\n",
              "\n",
              "    [theme=dark] .colab-df-convert {\n",
              "      background-color: #3B4455;\n",
              "      fill: #D2E3FC;\n",
              "    }\n",
              "\n",
              "    [theme=dark] .colab-df-convert:hover {\n",
              "      background-color: #434B5C;\n",
              "      box-shadow: 0px 1px 3px 1px rgba(0, 0, 0, 0.15);\n",
              "      filter: drop-shadow(0px 1px 2px rgba(0, 0, 0, 0.3));\n",
              "      fill: #FFFFFF;\n",
              "    }\n",
              "  </style>\n",
              "\n",
              "      <script>\n",
              "        const buttonEl =\n",
              "          document.querySelector('#df-738303f1-3128-4e89-a074-e8f4f23b1211 button.colab-df-convert');\n",
              "        buttonEl.style.display =\n",
              "          google.colab.kernel.accessAllowed ? 'block' : 'none';\n",
              "\n",
              "        async function convertToInteractive(key) {\n",
              "          const element = document.querySelector('#df-738303f1-3128-4e89-a074-e8f4f23b1211');\n",
              "          const dataTable =\n",
              "            await google.colab.kernel.invokeFunction('convertToInteractive',\n",
              "                                                     [key], {});\n",
              "          if (!dataTable) return;\n",
              "\n",
              "          const docLinkHtml = 'Like what you see? Visit the ' +\n",
              "            '<a target=\"_blank\" href=https://colab.research.google.com/notebooks/data_table.ipynb>data table notebook</a>'\n",
              "            + ' to learn more about interactive tables.';\n",
              "          element.innerHTML = '';\n",
              "          dataTable['output_type'] = 'display_data';\n",
              "          await google.colab.output.renderOutput(dataTable, element);\n",
              "          const docLink = document.createElement('div');\n",
              "          docLink.innerHTML = docLinkHtml;\n",
              "          element.appendChild(docLink);\n",
              "        }\n",
              "      </script>\n",
              "    </div>\n",
              "  </div>\n",
              "  "
            ],
            "text/plain": [
              "                                      Total_CO2_eq/kg\n",
              "Product_en                                           \n",
              "Water, tap, drinking, average values             0.00\n",
              "Mussel, raw                                      0.22\n",
              "Water, bottled, carbonated                       0.22\n",
              "Brussels sprouts, raw                            0.25\n",
              "Cabbage, Chinese, pak-choi, raw                  0.25"
            ]
          },
          "metadata": {},
          "execution_count": 21
        }
      ]
    },
    {
      "cell_type": "code",
      "source": [
        "selected_data[['Product_en', \"Total_CO2_eq/kg\"]].groupby(by= ['Product_en'], sort=True).mean().nlargest(5, [\"Total_CO2_eq/kg\"])"
      ],
      "metadata": {
        "colab": {
          "base_uri": "https://localhost:8080/",
          "height": 237
        },
        "id": "QGOh9ZleHfO3",
        "outputId": "33171a2d-5bbb-4c0e-c4a2-bab2f307fe89"
      },
      "execution_count": null,
      "outputs": [
        {
          "output_type": "execute_result",
          "data": {
            "text/html": [
              "\n",
              "  <div id=\"df-403310a8-4a98-445d-ae80-7e6d0033a6a4\">\n",
              "    <div class=\"colab-df-container\">\n",
              "      <div>\n",
              "<style scoped>\n",
              "    .dataframe tbody tr th:only-of-type {\n",
              "        vertical-align: middle;\n",
              "    }\n",
              "\n",
              "    .dataframe tbody tr th {\n",
              "        vertical-align: top;\n",
              "    }\n",
              "\n",
              "    .dataframe thead th {\n",
              "        text-align: right;\n",
              "    }\n",
              "</style>\n",
              "<table border=\"1\" class=\"dataframe\">\n",
              "  <thead>\n",
              "    <tr style=\"text-align: right;\">\n",
              "      <th></th>\n",
              "      <th>Total_CO2_eq/kg</th>\n",
              "    </tr>\n",
              "    <tr>\n",
              "      <th>Product_en</th>\n",
              "      <th></th>\n",
              "    </tr>\n",
              "  </thead>\n",
              "  <tbody>\n",
              "    <tr>\n",
              "      <th>Beef, fillet, defatted, raw</th>\n",
              "      <td>151.95</td>\n",
              "    </tr>\n",
              "    <tr>\n",
              "      <th>Beef, T-bone steak, raw</th>\n",
              "      <td>80.89</td>\n",
              "    </tr>\n",
              "    <tr>\n",
              "      <th>Veal, medium fat, raw</th>\n",
              "      <td>50.36</td>\n",
              "    </tr>\n",
              "    <tr>\n",
              "      <th>Roastbeef, sliced</th>\n",
              "      <td>45.84</td>\n",
              "    </tr>\n",
              "    <tr>\n",
              "      <th>Beef, rump, raw</th>\n",
              "      <td>45.69</td>\n",
              "    </tr>\n",
              "  </tbody>\n",
              "</table>\n",
              "</div>\n",
              "      <button class=\"colab-df-convert\" onclick=\"convertToInteractive('df-403310a8-4a98-445d-ae80-7e6d0033a6a4')\"\n",
              "              title=\"Convert this dataframe to an interactive table.\"\n",
              "              style=\"display:none;\">\n",
              "        \n",
              "  <svg xmlns=\"http://www.w3.org/2000/svg\" height=\"24px\"viewBox=\"0 0 24 24\"\n",
              "       width=\"24px\">\n",
              "    <path d=\"M0 0h24v24H0V0z\" fill=\"none\"/>\n",
              "    <path d=\"M18.56 5.44l.94 2.06.94-2.06 2.06-.94-2.06-.94-.94-2.06-.94 2.06-2.06.94zm-11 1L8.5 8.5l.94-2.06 2.06-.94-2.06-.94L8.5 2.5l-.94 2.06-2.06.94zm10 10l.94 2.06.94-2.06 2.06-.94-2.06-.94-.94-2.06-.94 2.06-2.06.94z\"/><path d=\"M17.41 7.96l-1.37-1.37c-.4-.4-.92-.59-1.43-.59-.52 0-1.04.2-1.43.59L10.3 9.45l-7.72 7.72c-.78.78-.78 2.05 0 2.83L4 21.41c.39.39.9.59 1.41.59.51 0 1.02-.2 1.41-.59l7.78-7.78 2.81-2.81c.8-.78.8-2.07 0-2.86zM5.41 20L4 18.59l7.72-7.72 1.47 1.35L5.41 20z\"/>\n",
              "  </svg>\n",
              "      </button>\n",
              "      \n",
              "  <style>\n",
              "    .colab-df-container {\n",
              "      display:flex;\n",
              "      flex-wrap:wrap;\n",
              "      gap: 12px;\n",
              "    }\n",
              "\n",
              "    .colab-df-convert {\n",
              "      background-color: #E8F0FE;\n",
              "      border: none;\n",
              "      border-radius: 50%;\n",
              "      cursor: pointer;\n",
              "      display: none;\n",
              "      fill: #1967D2;\n",
              "      height: 32px;\n",
              "      padding: 0 0 0 0;\n",
              "      width: 32px;\n",
              "    }\n",
              "\n",
              "    .colab-df-convert:hover {\n",
              "      background-color: #E2EBFA;\n",
              "      box-shadow: 0px 1px 2px rgba(60, 64, 67, 0.3), 0px 1px 3px 1px rgba(60, 64, 67, 0.15);\n",
              "      fill: #174EA6;\n",
              "    }\n",
              "\n",
              "    [theme=dark] .colab-df-convert {\n",
              "      background-color: #3B4455;\n",
              "      fill: #D2E3FC;\n",
              "    }\n",
              "\n",
              "    [theme=dark] .colab-df-convert:hover {\n",
              "      background-color: #434B5C;\n",
              "      box-shadow: 0px 1px 3px 1px rgba(0, 0, 0, 0.15);\n",
              "      filter: drop-shadow(0px 1px 2px rgba(0, 0, 0, 0.3));\n",
              "      fill: #FFFFFF;\n",
              "    }\n",
              "  </style>\n",
              "\n",
              "      <script>\n",
              "        const buttonEl =\n",
              "          document.querySelector('#df-403310a8-4a98-445d-ae80-7e6d0033a6a4 button.colab-df-convert');\n",
              "        buttonEl.style.display =\n",
              "          google.colab.kernel.accessAllowed ? 'block' : 'none';\n",
              "\n",
              "        async function convertToInteractive(key) {\n",
              "          const element = document.querySelector('#df-403310a8-4a98-445d-ae80-7e6d0033a6a4');\n",
              "          const dataTable =\n",
              "            await google.colab.kernel.invokeFunction('convertToInteractive',\n",
              "                                                     [key], {});\n",
              "          if (!dataTable) return;\n",
              "\n",
              "          const docLinkHtml = 'Like what you see? Visit the ' +\n",
              "            '<a target=\"_blank\" href=https://colab.research.google.com/notebooks/data_table.ipynb>data table notebook</a>'\n",
              "            + ' to learn more about interactive tables.';\n",
              "          element.innerHTML = '';\n",
              "          dataTable['output_type'] = 'display_data';\n",
              "          await google.colab.output.renderOutput(dataTable, element);\n",
              "          const docLink = document.createElement('div');\n",
              "          docLink.innerHTML = docLinkHtml;\n",
              "          element.appendChild(docLink);\n",
              "        }\n",
              "      </script>\n",
              "    </div>\n",
              "  </div>\n",
              "  "
            ],
            "text/plain": [
              "                             Total_CO2_eq/kg\n",
              "Product_en                                  \n",
              "Beef, fillet, defatted, raw           151.95\n",
              "Beef, T-bone steak, raw                80.89\n",
              "Veal, medium fat, raw                  50.36\n",
              "Roastbeef, sliced                      45.84\n",
              "Beef, rump, raw                        45.69"
            ]
          },
          "metadata": {},
          "execution_count": 22
        }
      ]
    },
    {
      "cell_type": "code",
      "source": [
        "# Group some of the elements from columns with categorical data\n",
        "df=selected_data[['Category_en', 'Agriculture', 'iLUC', 'Processing',\t'Packaging',\t'Transport',\t'Retail', 'Total_CO2_eq/kg']].groupby(by= ['Category_en'], sort=True).mean().sort_values(by=['Total_CO2_eq/kg'], ascending=False).round(decimals = 2)\n",
        "df"
      ],
      "metadata": {
        "colab": {
          "base_uri": "https://localhost:8080/",
          "height": 488
        },
        "id": "kPFRkZrWHfJ4",
        "outputId": "b503a803-9be0-49c0-cb49-65c8ce3bc9a9"
      },
      "execution_count": null,
      "outputs": [
        {
          "output_type": "execute_result",
          "data": {
            "text/html": [
              "\n",
              "  <div id=\"df-cdd8048d-6503-4e31-8933-7fed89fe2962\">\n",
              "    <div class=\"colab-df-container\">\n",
              "      <div>\n",
              "<style scoped>\n",
              "    .dataframe tbody tr th:only-of-type {\n",
              "        vertical-align: middle;\n",
              "    }\n",
              "\n",
              "    .dataframe tbody tr th {\n",
              "        vertical-align: top;\n",
              "    }\n",
              "\n",
              "    .dataframe thead th {\n",
              "        text-align: right;\n",
              "    }\n",
              "</style>\n",
              "<table border=\"1\" class=\"dataframe\">\n",
              "  <thead>\n",
              "    <tr style=\"text-align: right;\">\n",
              "      <th></th>\n",
              "      <th>Agriculture</th>\n",
              "      <th>iLUC</th>\n",
              "      <th>Processing</th>\n",
              "      <th>Packaging</th>\n",
              "      <th>Transport</th>\n",
              "      <th>Retail</th>\n",
              "      <th>Total_CO2_eq/kg</th>\n",
              "    </tr>\n",
              "    <tr>\n",
              "      <th>Category_en</th>\n",
              "      <th></th>\n",
              "      <th></th>\n",
              "      <th></th>\n",
              "      <th></th>\n",
              "      <th></th>\n",
              "      <th></th>\n",
              "      <th></th>\n",
              "    </tr>\n",
              "  </thead>\n",
              "  <tbody>\n",
              "    <tr>\n",
              "      <th>Meat/poultry</th>\n",
              "      <td>13.03</td>\n",
              "      <td>2.65</td>\n",
              "      <td>-0.71</td>\n",
              "      <td>0.20</td>\n",
              "      <td>0.21</td>\n",
              "      <td>0.00</td>\n",
              "      <td>15.38</td>\n",
              "    </tr>\n",
              "    <tr>\n",
              "      <th>Seafood</th>\n",
              "      <td>0.07</td>\n",
              "      <td>1.03</td>\n",
              "      <td>7.14</td>\n",
              "      <td>0.55</td>\n",
              "      <td>0.19</td>\n",
              "      <td>0.00</td>\n",
              "      <td>8.98</td>\n",
              "    </tr>\n",
              "    <tr>\n",
              "      <th>Oils/fats edible</th>\n",
              "      <td>1.56</td>\n",
              "      <td>0.57</td>\n",
              "      <td>0.76</td>\n",
              "      <td>0.48</td>\n",
              "      <td>0.21</td>\n",
              "      <td>0.01</td>\n",
              "      <td>3.59</td>\n",
              "    </tr>\n",
              "    <tr>\n",
              "      <th>Candy/sugar products</th>\n",
              "      <td>1.35</td>\n",
              "      <td>0.29</td>\n",
              "      <td>1.29</td>\n",
              "      <td>0.45</td>\n",
              "      <td>0.14</td>\n",
              "      <td>0.01</td>\n",
              "      <td>3.53</td>\n",
              "    </tr>\n",
              "    <tr>\n",
              "      <th>Prepared/preserved foods</th>\n",
              "      <td>1.41</td>\n",
              "      <td>0.34</td>\n",
              "      <td>0.62</td>\n",
              "      <td>0.43</td>\n",
              "      <td>0.13</td>\n",
              "      <td>0.01</td>\n",
              "      <td>2.93</td>\n",
              "    </tr>\n",
              "    <tr>\n",
              "      <th>Seasonings/preservatives/extracts</th>\n",
              "      <td>0.54</td>\n",
              "      <td>0.26</td>\n",
              "      <td>1.08</td>\n",
              "      <td>0.71</td>\n",
              "      <td>0.21</td>\n",
              "      <td>0.01</td>\n",
              "      <td>2.81</td>\n",
              "    </tr>\n",
              "    <tr>\n",
              "      <th>Milk/eggs/substitute products</th>\n",
              "      <td>1.52</td>\n",
              "      <td>0.20</td>\n",
              "      <td>0.72</td>\n",
              "      <td>0.22</td>\n",
              "      <td>0.11</td>\n",
              "      <td>0.00</td>\n",
              "      <td>2.78</td>\n",
              "    </tr>\n",
              "    <tr>\n",
              "      <th>Beverages</th>\n",
              "      <td>0.72</td>\n",
              "      <td>0.33</td>\n",
              "      <td>0.25</td>\n",
              "      <td>0.67</td>\n",
              "      <td>0.52</td>\n",
              "      <td>0.01</td>\n",
              "      <td>2.50</td>\n",
              "    </tr>\n",
              "    <tr>\n",
              "      <th>Bread/bakery products</th>\n",
              "      <td>0.72</td>\n",
              "      <td>0.18</td>\n",
              "      <td>0.92</td>\n",
              "      <td>0.27</td>\n",
              "      <td>0.13</td>\n",
              "      <td>0.01</td>\n",
              "      <td>2.22</td>\n",
              "    </tr>\n",
              "    <tr>\n",
              "      <th>Fruit/vegetable products</th>\n",
              "      <td>0.50</td>\n",
              "      <td>0.18</td>\n",
              "      <td>0.36</td>\n",
              "      <td>0.30</td>\n",
              "      <td>0.34</td>\n",
              "      <td>0.01</td>\n",
              "      <td>1.69</td>\n",
              "    </tr>\n",
              "    <tr>\n",
              "      <th>Cereal/grain/pulse products</th>\n",
              "      <td>0.52</td>\n",
              "      <td>0.16</td>\n",
              "      <td>0.17</td>\n",
              "      <td>0.31</td>\n",
              "      <td>0.22</td>\n",
              "      <td>0.01</td>\n",
              "      <td>1.40</td>\n",
              "    </tr>\n",
              "    <tr>\n",
              "      <th>Fruits</th>\n",
              "      <td>0.23</td>\n",
              "      <td>0.09</td>\n",
              "      <td>0.00</td>\n",
              "      <td>0.12</td>\n",
              "      <td>0.45</td>\n",
              "      <td>0.01</td>\n",
              "      <td>0.90</td>\n",
              "    </tr>\n",
              "    <tr>\n",
              "      <th>Vegetables</th>\n",
              "      <td>0.26</td>\n",
              "      <td>0.06</td>\n",
              "      <td>0.00</td>\n",
              "      <td>0.10</td>\n",
              "      <td>0.29</td>\n",
              "      <td>0.01</td>\n",
              "      <td>0.73</td>\n",
              "    </tr>\n",
              "  </tbody>\n",
              "</table>\n",
              "</div>\n",
              "      <button class=\"colab-df-convert\" onclick=\"convertToInteractive('df-cdd8048d-6503-4e31-8933-7fed89fe2962')\"\n",
              "              title=\"Convert this dataframe to an interactive table.\"\n",
              "              style=\"display:none;\">\n",
              "        \n",
              "  <svg xmlns=\"http://www.w3.org/2000/svg\" height=\"24px\"viewBox=\"0 0 24 24\"\n",
              "       width=\"24px\">\n",
              "    <path d=\"M0 0h24v24H0V0z\" fill=\"none\"/>\n",
              "    <path d=\"M18.56 5.44l.94 2.06.94-2.06 2.06-.94-2.06-.94-.94-2.06-.94 2.06-2.06.94zm-11 1L8.5 8.5l.94-2.06 2.06-.94-2.06-.94L8.5 2.5l-.94 2.06-2.06.94zm10 10l.94 2.06.94-2.06 2.06-.94-2.06-.94-.94-2.06-.94 2.06-2.06.94z\"/><path d=\"M17.41 7.96l-1.37-1.37c-.4-.4-.92-.59-1.43-.59-.52 0-1.04.2-1.43.59L10.3 9.45l-7.72 7.72c-.78.78-.78 2.05 0 2.83L4 21.41c.39.39.9.59 1.41.59.51 0 1.02-.2 1.41-.59l7.78-7.78 2.81-2.81c.8-.78.8-2.07 0-2.86zM5.41 20L4 18.59l7.72-7.72 1.47 1.35L5.41 20z\"/>\n",
              "  </svg>\n",
              "      </button>\n",
              "      \n",
              "  <style>\n",
              "    .colab-df-container {\n",
              "      display:flex;\n",
              "      flex-wrap:wrap;\n",
              "      gap: 12px;\n",
              "    }\n",
              "\n",
              "    .colab-df-convert {\n",
              "      background-color: #E8F0FE;\n",
              "      border: none;\n",
              "      border-radius: 50%;\n",
              "      cursor: pointer;\n",
              "      display: none;\n",
              "      fill: #1967D2;\n",
              "      height: 32px;\n",
              "      padding: 0 0 0 0;\n",
              "      width: 32px;\n",
              "    }\n",
              "\n",
              "    .colab-df-convert:hover {\n",
              "      background-color: #E2EBFA;\n",
              "      box-shadow: 0px 1px 2px rgba(60, 64, 67, 0.3), 0px 1px 3px 1px rgba(60, 64, 67, 0.15);\n",
              "      fill: #174EA6;\n",
              "    }\n",
              "\n",
              "    [theme=dark] .colab-df-convert {\n",
              "      background-color: #3B4455;\n",
              "      fill: #D2E3FC;\n",
              "    }\n",
              "\n",
              "    [theme=dark] .colab-df-convert:hover {\n",
              "      background-color: #434B5C;\n",
              "      box-shadow: 0px 1px 3px 1px rgba(0, 0, 0, 0.15);\n",
              "      filter: drop-shadow(0px 1px 2px rgba(0, 0, 0, 0.3));\n",
              "      fill: #FFFFFF;\n",
              "    }\n",
              "  </style>\n",
              "\n",
              "      <script>\n",
              "        const buttonEl =\n",
              "          document.querySelector('#df-cdd8048d-6503-4e31-8933-7fed89fe2962 button.colab-df-convert');\n",
              "        buttonEl.style.display =\n",
              "          google.colab.kernel.accessAllowed ? 'block' : 'none';\n",
              "\n",
              "        async function convertToInteractive(key) {\n",
              "          const element = document.querySelector('#df-cdd8048d-6503-4e31-8933-7fed89fe2962');\n",
              "          const dataTable =\n",
              "            await google.colab.kernel.invokeFunction('convertToInteractive',\n",
              "                                                     [key], {});\n",
              "          if (!dataTable) return;\n",
              "\n",
              "          const docLinkHtml = 'Like what you see? Visit the ' +\n",
              "            '<a target=\"_blank\" href=https://colab.research.google.com/notebooks/data_table.ipynb>data table notebook</a>'\n",
              "            + ' to learn more about interactive tables.';\n",
              "          element.innerHTML = '';\n",
              "          dataTable['output_type'] = 'display_data';\n",
              "          await google.colab.output.renderOutput(dataTable, element);\n",
              "          const docLink = document.createElement('div');\n",
              "          docLink.innerHTML = docLinkHtml;\n",
              "          element.appendChild(docLink);\n",
              "        }\n",
              "      </script>\n",
              "    </div>\n",
              "  </div>\n",
              "  "
            ],
            "text/plain": [
              "                                   Agriculture  iLUC  ...  Retail  Total_CO2_eq/kg\n",
              "Category_en                                           ...                         \n",
              "Meat/poultry                             13.03  2.65  ...    0.00            15.38\n",
              "Seafood                                   0.07  1.03  ...    0.00             8.98\n",
              "Oils/fats edible                          1.56  0.57  ...    0.01             3.59\n",
              "Candy/sugar products                      1.35  0.29  ...    0.01             3.53\n",
              "Prepared/preserved foods                  1.41  0.34  ...    0.01             2.93\n",
              "Seasonings/preservatives/extracts         0.54  0.26  ...    0.01             2.81\n",
              "Milk/eggs/substitute products             1.52  0.20  ...    0.00             2.78\n",
              "Beverages                                 0.72  0.33  ...    0.01             2.50\n",
              "Bread/bakery products                     0.72  0.18  ...    0.01             2.22\n",
              "Fruit/vegetable products                  0.50  0.18  ...    0.01             1.69\n",
              "Cereal/grain/pulse products               0.52  0.16  ...    0.01             1.40\n",
              "Fruits                                    0.23  0.09  ...    0.01             0.90\n",
              "Vegetables                                0.26  0.06  ...    0.01             0.73\n",
              "\n",
              "[13 rows x 7 columns]"
            ]
          },
          "metadata": {},
          "execution_count": 23
        }
      ]
    },
    {
      "cell_type": "code",
      "source": [
        "# Group some of the elements from columns with categorical data\n",
        "#selected_data[['Category_en', 'Agriculture', 'iLUC', 'Processing',\t'Packaging',\t'Transport',\t'Retail', 'Total_CO2_eq/kg']].groupby(by= ['Category_en'], sort=True, as_index=False).mean().sort_values(by=['Total_CO2_eq/kg'], ascending=False).round(decimals = 2)"
      ],
      "metadata": {
        "id": "fKq7lZqIHfEY"
      },
      "execution_count": null,
      "outputs": []
    },
    {
      "cell_type": "markdown",
      "source": [
        "***Data Visualization***"
      ],
      "metadata": {
        "id": "V-8E7kLvR2rD"
      }
    },
    {
      "cell_type": "code",
      "source": [
        "import numpy as np\n",
        "import pandas as pd\n",
        "import matplotlib.pyplot as plt\n",
        "import seaborn as sns\n",
        "from seaborn import load_dataset"
      ],
      "metadata": {
        "id": "qP3-KWkGHfHf"
      },
      "execution_count": null,
      "outputs": []
    },
    {
      "cell_type": "code",
      "source": [
        "selected_data.Agriculture"
      ],
      "metadata": {
        "colab": {
          "base_uri": "https://localhost:8080/"
        },
        "id": "rJOUqLOB4PEZ",
        "outputId": "b34b05d2-71a8-4893-a5da-bce2d57455fb"
      },
      "execution_count": null,
      "outputs": [
        {
          "output_type": "execute_result",
          "data": {
            "text/plain": [
              "0      0.25\n",
              "1      0.07\n",
              "2      0.14\n",
              "3      0.16\n",
              "4      0.91\n",
              "       ... \n",
              "495    0.07\n",
              "496    0.29\n",
              "497    1.83\n",
              "498    1.68\n",
              "499    0.40\n",
              "Name: Agriculture, Length: 500, dtype: float64"
            ]
          },
          "metadata": {},
          "execution_count": 26
        }
      ]
    },
    {
      "cell_type": "code",
      "source": [
        "# Stacked bar plot\n",
        "fig, ax= plt.subplots(figsize=(35, 15))\n",
        "\n",
        "ax.bar(selected_data[\"Category_en\"], selected_data['Agriculture'], label= \"Agriculture\")\n",
        "ax.bar(selected_data[\"Category_en\"], selected_data['iLUC'], label='iLUC')\n",
        "ax.bar(selected_data[\"Category_en\"], selected_data['Processing'], label='Processing')\n",
        "ax.bar(selected_data[\"Category_en\"], selected_data['Packaging'], label='Packaging')\n",
        "ax.bar(selected_data[\"Category_en\"], selected_data['Transport'], label='Transport')\n",
        "ax.bar(selected_data[\"Category_en\"], selected_data['Retail'], label='Retail')\n",
        "\n",
        "plt.xticks(rotation=50)\n",
        "plt.title(\"Total CO2 equivalent per Kilo Gram of the Product Category\")\n",
        "plt.xlabel(\"Product Category\")\n",
        "plt.ylabel(\"Total CO2 equivalent/Kg\")\n",
        "ax.legend()"
      ],
      "metadata": {
        "colab": {
          "base_uri": "https://localhost:8080/",
          "height": 1000
        },
        "id": "McDZdc1B7abk",
        "outputId": "1705bc35-f39d-4774-be1e-998ff7fb2cfc"
      },
      "execution_count": null,
      "outputs": [
        {
          "output_type": "execute_result",
          "data": {
            "text/plain": [
              "<matplotlib.legend.Legend at 0x7f32495375d0>"
            ]
          },
          "metadata": {},
          "execution_count": 27
        },
        {
          "output_type": "display_data",
          "data": {
            "image/png": "[encoded data removed]",
            "text/plain": [
              "<Figure size 2520x1080 with 1 Axes>"
            ]
          },
          "metadata": {
            "needs_background": "light"
          }
        }
      ]
    },
    {
      "cell_type": "code",
      "source": [
        ""
      ],
      "metadata": {
        "id": "YOQrraYxHfBA"
      },
      "execution_count": null,
      "outputs": []
    },
    {
      "cell_type": "code",
      "source": [
        "# Bar chart\n",
        "fig, ax= plt.subplots(figsize=(35, 10))\n",
        "sns.barplot(selected_data[\"Category_en\"], selected_data[\"Total_CO2_eq/kg\"])\n",
        "plt.xticks(rotation=20)\n",
        "plt.title(\"Total CO2 equivalent per Kilo Gram of the Product Category\")\n",
        "plt.xlabel(\"Product Category\")\n",
        "plt.ylabel(\"Total CO2 equivalent/Kg\")"
      ],
      "metadata": {
        "id": "DFAE4chVHe4W",
        "colab": {
          "base_uri": "https://localhost:8080/",
          "height": 743
        },
        "outputId": "f1912c5a-f5ca-4dce-dea1-e14a0abd0ffb"
      },
      "execution_count": null,
      "outputs": [
        {
          "output_type": "stream",
          "name": "stderr",
          "text": [
            "/usr/local/lib/python3.7/dist-packages/seaborn/_decorators.py:43: FutureWarning: Pass the following variables as keyword args: x, y. From version 0.12, the only valid positional argument will be `data`, and passing other arguments without an explicit keyword will result in an error or misinterpretation.\n",
            "  FutureWarning\n"
          ]
        },
        {
          "output_type": "execute_result",
          "data": {
            "text/plain": [
              "Text(0, 0.5, 'Total CO2 equivalent/Kg')"
            ]
          },
          "metadata": {},
          "execution_count": 28
        },
        {
          "output_type": "display_data",
          "data": {
            "image/png": "[encoded data removed]",
            "text/plain": [
              "<Figure size 2520x720 with 1 Axes>"
            ]
          },
          "metadata": {
            "needs_background": "light"
          }
        }
      ]
    },
    {
      "cell_type": "code",
      "source": [
        "# Pie chart\n",
        "fig, ax= plt.subplots(figsize=(15, 15))\n",
        "selected_data['Category_en'].value_counts().plot(kind=\"pie\", autopct=\"%.2f\")\n",
        "plt.show()"
      ],
      "metadata": {
        "id": "EA4v9imIHenn",
        "colab": {
          "base_uri": "https://localhost:8080/",
          "height": 846
        },
        "outputId": "c0e92ee6-8b13-4680-e912-9d059b65d359"
      },
      "execution_count": null,
      "outputs": [
        {
          "output_type": "display_data",
          "data": {
            "image/png": "[encoded data removed]",
            "text/plain": [
              "<Figure size 1080x1080 with 1 Axes>"
            ]
          },
          "metadata": {}
        }
      ]
    },
    {
      "cell_type": "code",
      "source": [
        ""
      ],
      "metadata": {
        "id": "n9lc1lUXVEjr"
      },
      "execution_count": null,
      "outputs": []
    }
  ]
}