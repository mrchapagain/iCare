{
  "nbformat": 4,
  "nbformat_minor": 0,
  "metadata": {
    "colab": {
      "name": "Concito",
      "provenance": [],
      "collapsed_sections": []
    },
    "kernelspec": {
      "name": "python3",
      "display_name": "Python 3"
    },
    "language_info": {
      "name": "python"
    }
  },
  "cells": [
    {
      "cell_type": "markdown",
      "source": [
        "## Climate Data-Base from CONCITO"
      ],
      "metadata": {
        "id": "eXzwcEYh95vo"
      }
    },
    {
      "cell_type": "markdown",
      "source": [
        "**## Exploratery Analysis (EDA)**"
      ],
      "metadata": {
        "id": "6ArDDsjaOPww"
      }
    },
    {
      "cell_type": "code",
      "source": [
        "pip install colorama"
      ],
      "metadata": {
        "id": "7PtHKUWpGANP",
        "outputId": "6cee75a8-6978-4063-e177-1ca9acb638d7",
        "colab": {
          "base_uri": "https://localhost:8080/"
        }
      },
      "execution_count": 8,
      "outputs": [
        {
          "output_type": "stream",
          "name": "stdout",
          "text": [
            "Looking in indexes: https://pypi.org/simple, https://us-python.pkg.dev/colab-wheels/public/simple/\n",
            "Requirement already satisfied: colorama in /usr/local/lib/python3.7/dist-packages (0.4.5)\n"
          ]
        }
      ]
    },
    {
      "cell_type": "code",
      "source": [
        "\n",
        "# Importing the required libaries for EDA\n",
        "import pandas as pd\n",
        "import numpy as np\n",
        "import seaborn as sns\n",
        "import matplotlib.pyplot as plt\n",
        "from seaborn import load_dataset\n",
        "import warnings\n",
        "warnings.filterwarnings(\"ignore\")\n",
        "from colorama import Fore, Back, Style\n",
        "\n",
        "class FoodCo2Analytics():\n",
        "    # Import data\n",
        "    def datareader(self, data_link):\n",
        "        self.data_link= data_link\n",
        "        # Loading the data into the data-frame\n",
        "        col_names= [\"id\", \"Product_dk\", \"Category_dk\", \"Product_en\", \"Category_en\", \"Unit\", \"Agriculture\", \"iLUC\", \"Processing\", \"Packaging\", \"Transport\", \"Retail\", \"Total_CO2_eq/kg\", \"Energy_KJ\", \"Fat_g\", \"Carb_g\", \"Protein_g\", \"Data_Source\", \"Comments\", \"GPC_Level4_en\", \"ID_Food\", \"ID_Pack\", \"ID_Retail\", \"GPC_Category_en\", \"GPC_Category_dk\", \"GPC_Level4_dk\", \"product_type\", \"GPC_level1\", \"Food_group\", \"GPC_level2\", \"Un/Processed\", \"GPC_Level3\", \"Extra_category\"]\n",
        "        # Read data with Pandas as Excel.\n",
        "        # Original columns name are replaced with ralavant names (col_names)\n",
        "        data= pd.read_excel(data_link, sheet_name=1, index_col=False, header=None, skiprows=1, names= col_names).round(decimals = 2)\n",
        "        cols_to_use= [\"Product_en\", \"Category_en\", \"Agriculture\", \"iLUC\", \"Processing\", \"Packaging\", \"Transport\", \"Retail\", \"Total_CO2_eq/kg\", \"Energy_KJ\", \"Fat_g\", \"Carb_g\", \"Protein_g\"]\n",
        "        selected_data= data.loc[:, cols_to_use].round(decimals = 2)\n",
        "        # I could not change or replace NaN value with replace() or fillna() method, which i would like to replace with 3.5 and 13.0. So i use inefficient method.\n",
        "        selected_data[\"Carb_g\"].iloc[49:50]= 3.5\n",
        "        selected_data['Protein_g'].iloc[49:50]= 13.0\n",
        "        selected_data[[\"Carb_g\", 'Protein_g']].iloc[49:50]\n",
        "        #\"\"\"Everything look okey by now\"\"\"\n",
        "        # Group some of the elements from columns with categorical data\n",
        "        \n",
        "        \"\"\"#\"Beef, fillet, defatted, raw\" row have very high difference with other row. so during the EDA process this row is counted as outlier. to have better overview and analytics, this row should be dropped. \n",
        "        On the other hand \"Water, tap, drinking, average values\" row have 0 value so, we have no use of this row, so also will dorp this row.\"\"\"\n",
        "\n",
        "        to_drop1= selected_data[selected_data[\"Product_en\"] == \"Water, tap, drinking, average values\"].index\n",
        "        to_drop2= selected_data[selected_data[\"Product_en\"] == \"Beef, fillet, defatted, raw\"].index\n",
        "        to_drop= [to_drop1[0], to_drop2[0]]\n",
        "        selected_dropped_data= selected_data.drop(labels=to_drop, inplace=False)\n",
        "\n",
        "        #df_with_category=selected_dropped_data[['Category_en', 'Agriculture', 'iLUC', 'Processing',\t'Packaging',\t'Transport',\t'Retail', 'Total_CO2_eq/kg']].groupby(by= ['Category_en'], sort=True).mean().sort_values(by=['Total_CO2_eq/kg'], ascending=False).round(decimals = 2)\n",
        "        return selected_dropped_data\n",
        "\n",
        "    def co2_data_plot(self, selected_dropped_data):\n",
        "        self.selected_dropped_data= selected_dropped_data\n",
        "        # Group some of the elements from columns with categorical data\n",
        "        df_with_category= selected_dropped_data[['Category_en', 'Agriculture', 'iLUC', 'Processing',\t'Packaging',\t'Transport',\t'Retail', 'Total_CO2_eq/kg']].groupby(by= ['Category_en'], sort=True).mean().sort_values(by=['Total_CO2_eq/kg'], ascending=False).round(decimals = 2)\n",
        "        \n",
        "        # Stacked bar plot\n",
        "        rows= selected_dropped_data.shape[0]\n",
        "        fig, ax= plt.subplots(figsize=(15, 10))\n",
        "        ax.barh(df_with_category.index, df_with_category['Agriculture'], label= \"Agriculture\")\n",
        "        ax.barh(df_with_category.index, df_with_category['iLUC'], label='iLUC')\n",
        "        ax.barh(df_with_category.index, df_with_category['Packaging'], label='Packaging')\n",
        "        ax.barh(df_with_category.index, df_with_category['Transport'], label='Transport')\n",
        "        ax.barh(df_with_category.index, df_with_category['Retail'], label='Retail')\n",
        "\n",
        "        plt.xticks(rotation=50)\n",
        "        plt.title(\"Total CO2 equivalent per Kilo Gram of the Product Category\")\n",
        "        plt.ylabel(\"Product Category\")\n",
        "        plt.xlabel(\"Total average CO2 equivalent/Kg\")\n",
        "        ax.legend()\n",
        "        #plt.savefig(\"portfolio/static/co2_data_plot_toshow.png\")\n",
        "        #graph = fig.to_html(full_html=False, default_height=500, default_width=700)\n",
        "        #plt.close() \n",
        "\n",
        "    def selected_foodinfo(selected_dropped_data):\n",
        "        self.selected_dropped_data=selected_dropped_data\n",
        "        name_choosen =  selected_dropped_data.sample().reset_index(drop=True)\n",
        "\n",
        "        def block(self):\n",
        "            print(\"*\" * 60)\n",
        "            print(Fore.GREEN + f'Food product choosen: \\t{name_choosen._get_value(0, \"Product_en\")}')\n",
        "            print(\".\" * 40) \n",
        "            print(Fore.RED + f'Food category releted to: \\t{name_choosen._get_value(0, \"Category_en\")}')\n",
        "            print(\".\" * 40)\n",
        "            print(Fore.GREEN + f'Total CO2 emission contribution:\\t{name_choosen._get_value(0, \"Total_CO2_eq/kg\")}')\n",
        "            print(Style.RESET_ALL)\n",
        "            print(f'\\t Agriculture = {name_choosen._get_value(0, \"Agriculture\")}, \\n\\t iLUC = {name_choosen._get_value(0, \"iLUC\")}, \\n\\t Processing = {name_choosen._get_value(0, \"Processing\")}, \\n\\t Packaging = {name_choosen._get_value(0, \"Packaging\")}, \\n\\t Transport = {name_choosen._get_value(0, \"Transport\")}, \\n\\t Retail = {name_choosen._get_value(0, \"Retail\")}')\n",
        "            print(\".\" * 40)\n",
        "            print(Fore.GREEN + f'Total Energy_KJ: \\t{name_choosen._get_value(0, \"Energy_KJ\")}')\n",
        "            print(Style.RESET_ALL)\n",
        "            print(f'\\t Fat amount = {name_choosen._get_value(0, \"Fat_g\")}, \\n\\t Carb amount = {name_choosen._get_value(0, \"Carb_g\")}, \\n\\t Protein amount = {name_choosen._get_value(0, \"Protein_g\")}')\n",
        "            print(\"*\" * 60)\n",
        "        return block()"
      ],
      "metadata": {
        "id": "jYW0uqVRc5SA"
      },
      "execution_count": 9,
      "outputs": []
    },
    {
      "cell_type": "code",
      "source": [
        "#Lets use function to read data\n",
        "data_link = \"https://github.com/mrchapagain/FoodClimateAnalytics/raw/main/ClimateData.xlsx\" # glob.glob(path + '*.xlsx')\n",
        "\n",
        "fooddatas= FoodCo2Analytics()\n",
        "m=fooddatas.datareader(data_link).sort_values(by=['Total_CO2_eq/kg'], ascending=False).round(decimals = 2)\n",
        "\n",
        "# Rows of the 5 higest and 5 least CO2 contributor\n",
        "m.tail(5).append(m.head(5)).head(2)"
      ],
      "metadata": {
        "id": "rlw-2Gcqdv2f",
        "outputId": "da32427b-dbc9-4f0c-f7b3-84fc2cdb7380",
        "colab": {
          "base_uri": "https://localhost:8080/",
          "height": 112
        }
      },
      "execution_count": 32,
      "outputs": [
        {
          "output_type": "execute_result",
          "data": {
            "text/plain": [
              "                          Product_en Category_en  Agriculture  iLUC  \\\n",
              "165  Cabbage, Chinese, pak-choi, raw  Vegetables          0.1  0.02   \n",
              "156              Cabbage, white, raw  Vegetables          0.1  0.02   \n",
              "\n",
              "     Processing  Packaging  Transport  Retail  Total_CO2_eq/kg  Energy_KJ  \\\n",
              "165         0.0       0.06       0.05    0.01             0.25       61.0   \n",
              "156         0.0       0.06       0.05    0.01             0.25      133.0   \n",
              "\n",
              "     Fat_g Carb_g Protein_g  \n",
              "165    0.2    1.2       1.5  \n",
              "156    0.2    4.5       1.2  "
            ],
            "text/html": [
              "\n",
              "  <div id=\"df-3cf6b5b2-76f8-474a-8e40-c1acbbd4eff9\">\n",
              "    <div class=\"colab-df-container\">\n",
              "      <div>\n",
              "<style scoped>\n",
              "    .dataframe tbody tr th:only-of-type {\n",
              "        vertical-align: middle;\n",
              "    }\n",
              "\n",
              "    .dataframe tbody tr th {\n",
              "        vertical-align: top;\n",
              "    }\n",
              "\n",
              "    .dataframe thead th {\n",
              "        text-align: right;\n",
              "    }\n",
              "</style>\n",
              "<table border=\"1\" class=\"dataframe\">\n",
              "  <thead>\n",
              "    <tr style=\"text-align: right;\">\n",
              "      <th></th>\n",
              "      <th>Product_en</th>\n",
              "      <th>Category_en</th>\n",
              "      <th>Agriculture</th>\n",
              "      <th>iLUC</th>\n",
              "      <th>Processing</th>\n",
              "      <th>Packaging</th>\n",
              "      <th>Transport</th>\n",
              "      <th>Retail</th>\n",
              "      <th>Total_CO2_eq/kg</th>\n",
              "      <th>Energy_KJ</th>\n",
              "      <th>Fat_g</th>\n",
              "      <th>Carb_g</th>\n",
              "      <th>Protein_g</th>\n",
              "    </tr>\n",
              "  </thead>\n",
              "  <tbody>\n",
              "    <tr>\n",
              "      <th>165</th>\n",
              "      <td>Cabbage, Chinese, pak-choi, raw</td>\n",
              "      <td>Vegetables</td>\n",
              "      <td>0.1</td>\n",
              "      <td>0.02</td>\n",
              "      <td>0.0</td>\n",
              "      <td>0.06</td>\n",
              "      <td>0.05</td>\n",
              "      <td>0.01</td>\n",
              "      <td>0.25</td>\n",
              "      <td>61.0</td>\n",
              "      <td>0.2</td>\n",
              "      <td>1.2</td>\n",
              "      <td>1.5</td>\n",
              "    </tr>\n",
              "    <tr>\n",
              "      <th>156</th>\n",
              "      <td>Cabbage, white, raw</td>\n",
              "      <td>Vegetables</td>\n",
              "      <td>0.1</td>\n",
              "      <td>0.02</td>\n",
              "      <td>0.0</td>\n",
              "      <td>0.06</td>\n",
              "      <td>0.05</td>\n",
              "      <td>0.01</td>\n",
              "      <td>0.25</td>\n",
              "      <td>133.0</td>\n",
              "      <td>0.2</td>\n",
              "      <td>4.5</td>\n",
              "      <td>1.2</td>\n",
              "    </tr>\n",
              "  </tbody>\n",
              "</table>\n",
              "</div>\n",
              "      <button class=\"colab-df-convert\" onclick=\"convertToInteractive('df-3cf6b5b2-76f8-474a-8e40-c1acbbd4eff9')\"\n",
              "              title=\"Convert this dataframe to an interactive table.\"\n",
              "              style=\"display:none;\">\n",
              "        \n",
              "  <svg xmlns=\"http://www.w3.org/2000/svg\" height=\"24px\"viewBox=\"0 0 24 24\"\n",
              "       width=\"24px\">\n",
              "    <path d=\"M0 0h24v24H0V0z\" fill=\"none\"/>\n",
              "    <path d=\"M18.56 5.44l.94 2.06.94-2.06 2.06-.94-2.06-.94-.94-2.06-.94 2.06-2.06.94zm-11 1L8.5 8.5l.94-2.06 2.06-.94-2.06-.94L8.5 2.5l-.94 2.06-2.06.94zm10 10l.94 2.06.94-2.06 2.06-.94-2.06-.94-.94-2.06-.94 2.06-2.06.94z\"/><path d=\"M17.41 7.96l-1.37-1.37c-.4-.4-.92-.59-1.43-.59-.52 0-1.04.2-1.43.59L10.3 9.45l-7.72 7.72c-.78.78-.78 2.05 0 2.83L4 21.41c.39.39.9.59 1.41.59.51 0 1.02-.2 1.41-.59l7.78-7.78 2.81-2.81c.8-.78.8-2.07 0-2.86zM5.41 20L4 18.59l7.72-7.72 1.47 1.35L5.41 20z\"/>\n",
              "  </svg>\n",
              "      </button>\n",
              "      \n",
              "  <style>\n",
              "    .colab-df-container {\n",
              "      display:flex;\n",
              "      flex-wrap:wrap;\n",
              "      gap: 12px;\n",
              "    }\n",
              "\n",
              "    .colab-df-convert {\n",
              "      background-color: #E8F0FE;\n",
              "      border: none;\n",
              "      border-radius: 50%;\n",
              "      cursor: pointer;\n",
              "      display: none;\n",
              "      fill: #1967D2;\n",
              "      height: 32px;\n",
              "      padding: 0 0 0 0;\n",
              "      width: 32px;\n",
              "    }\n",
              "\n",
              "    .colab-df-convert:hover {\n",
              "      background-color: #E2EBFA;\n",
              "      box-shadow: 0px 1px 2px rgba(60, 64, 67, 0.3), 0px 1px 3px 1px rgba(60, 64, 67, 0.15);\n",
              "      fill: #174EA6;\n",
              "    }\n",
              "\n",
              "    [theme=dark] .colab-df-convert {\n",
              "      background-color: #3B4455;\n",
              "      fill: #D2E3FC;\n",
              "    }\n",
              "\n",
              "    [theme=dark] .colab-df-convert:hover {\n",
              "      background-color: #434B5C;\n",
              "      box-shadow: 0px 1px 3px 1px rgba(0, 0, 0, 0.15);\n",
              "      filter: drop-shadow(0px 1px 2px rgba(0, 0, 0, 0.3));\n",
              "      fill: #FFFFFF;\n",
              "    }\n",
              "  </style>\n",
              "\n",
              "      <script>\n",
              "        const buttonEl =\n",
              "          document.querySelector('#df-3cf6b5b2-76f8-474a-8e40-c1acbbd4eff9 button.colab-df-convert');\n",
              "        buttonEl.style.display =\n",
              "          google.colab.kernel.accessAllowed ? 'block' : 'none';\n",
              "\n",
              "        async function convertToInteractive(key) {\n",
              "          const element = document.querySelector('#df-3cf6b5b2-76f8-474a-8e40-c1acbbd4eff9');\n",
              "          const dataTable =\n",
              "            await google.colab.kernel.invokeFunction('convertToInteractive',\n",
              "                                                     [key], {});\n",
              "          if (!dataTable) return;\n",
              "\n",
              "          const docLinkHtml = 'Like what you see? Visit the ' +\n",
              "            '<a target=\"_blank\" href=https://colab.research.google.com/notebooks/data_table.ipynb>data table notebook</a>'\n",
              "            + ' to learn more about interactive tables.';\n",
              "          element.innerHTML = '';\n",
              "          dataTable['output_type'] = 'display_data';\n",
              "          await google.colab.output.renderOutput(dataTable, element);\n",
              "          const docLink = document.createElement('div');\n",
              "          docLink.innerHTML = docLinkHtml;\n",
              "          element.appendChild(docLink);\n",
              "        }\n",
              "      </script>\n",
              "    </div>\n",
              "  </div>\n",
              "  "
            ]
          },
          "metadata": {},
          "execution_count": 32
        }
      ]
    },
    {
      "cell_type": "code",
      "source": [
        "co2_data_plot(fooddatas)"
      ],
      "metadata": {
        "id": "D_P3fmMVfEk2",
        "outputId": "86ec1dec-d413-4cc2-8304-2c44be70e4ad",
        "colab": {
          "base_uri": "https://localhost:8080/",
          "height": 628
        }
      },
      "execution_count": 11,
      "outputs": [
        {
          "output_type": "display_data",
          "data": {
            "text/plain": [
              "<Figure size 1080x720 with 1 Axes>"
            ],
            "image/png": "[encoded data removed]"
          },
          "metadata": {
            "needs_background": "light"
          }
        }
      ]
    },
    {
      "cell_type": "code",
      "source": [
        "selected_foodinfo(fooddatas)"
      ],
      "metadata": {
        "id": "FwFy0L4kfET4",
        "outputId": "336ab9a1-fe83-433e-885c-776817e257cf",
        "colab": {
          "base_uri": "https://localhost:8080/",
          "height": 287
        }
      },
      "execution_count": 25,
      "outputs": [
        {
          "output_type": "error",
          "ename": "AttributeError",
          "evalue": "ignored",
          "traceback": [
            "\u001b[0;31m---------------------------------------------------------------------------\u001b[0m",
            "\u001b[0;31mAttributeError\u001b[0m                            Traceback (most recent call last)",
            "\u001b[0;32m<ipython-input-25-cca79191987a>\u001b[0m in \u001b[0;36m<module>\u001b[0;34m()\u001b[0m\n\u001b[0;32m----> 1\u001b[0;31m \u001b[0mselected_foodinfo\u001b[0m\u001b[0;34m(\u001b[0m\u001b[0mfooddatas\u001b[0m\u001b[0;34m)\u001b[0m\u001b[0;34m\u001b[0m\u001b[0;34m\u001b[0m\u001b[0m\n\u001b[0m",
            "\u001b[0;32m<ipython-input-2-dc34f1e56fa7>\u001b[0m in \u001b[0;36mselected_foodinfo\u001b[0;34m(selected_dropped_data)\u001b[0m\n\u001b[1;32m     62\u001b[0m \u001b[0;34m\u001b[0m\u001b[0m\n\u001b[1;32m     63\u001b[0m \u001b[0;32mdef\u001b[0m \u001b[0mselected_foodinfo\u001b[0m\u001b[0;34m(\u001b[0m\u001b[0mselected_dropped_data\u001b[0m\u001b[0;34m)\u001b[0m\u001b[0;34m:\u001b[0m\u001b[0;34m\u001b[0m\u001b[0;34m\u001b[0m\u001b[0m\n\u001b[0;32m---> 64\u001b[0;31m     \u001b[0mname_choosen\u001b[0m \u001b[0;34m=\u001b[0m  \u001b[0mselected_dropped_data\u001b[0m\u001b[0;34m.\u001b[0m\u001b[0msample\u001b[0m\u001b[0;34m(\u001b[0m\u001b[0;34m)\u001b[0m\u001b[0;34m.\u001b[0m\u001b[0mreset_index\u001b[0m\u001b[0;34m(\u001b[0m\u001b[0mdrop\u001b[0m\u001b[0;34m=\u001b[0m\u001b[0;32mTrue\u001b[0m\u001b[0;34m)\u001b[0m\u001b[0;34m\u001b[0m\u001b[0;34m\u001b[0m\u001b[0m\n\u001b[0m\u001b[1;32m     65\u001b[0m \u001b[0;34m\u001b[0m\u001b[0m\n\u001b[1;32m     66\u001b[0m     \u001b[0;32mdef\u001b[0m \u001b[0mblock\u001b[0m\u001b[0;34m(\u001b[0m\u001b[0;34m)\u001b[0m\u001b[0;34m:\u001b[0m\u001b[0;34m\u001b[0m\u001b[0;34m\u001b[0m\u001b[0m\n",
            "\u001b[0;31mAttributeError\u001b[0m: 'FoodCo2Analytics' object has no attribute 'sample'"
          ]
        }
      ]
    }
  ]
}